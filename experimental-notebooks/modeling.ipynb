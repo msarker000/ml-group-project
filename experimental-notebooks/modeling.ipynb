{
 "cells": [
  {
   "cell_type": "code",
   "execution_count": 32,
   "metadata": {},
   "outputs": [],
   "source": [
    "import numpy as np\n",
    "import pandas as pd\n",
    "import os\n",
    "import tarfile\n",
    "from six.moves import urllib\n",
    "import zipfile\n",
    "import json\n",
    "import matplotlib.pyplot as plt\n",
    "\n",
    "from sklearn.model_selection import train_test_split\n",
    "from sklearn.preprocessing import Imputer\n",
    "from sklearn.preprocessing import OneHotEncoder\n",
    "from sklearn.pipeline import Pipeline\n",
    "from sklearn.preprocessing import StandardScaler\n",
    "from sklearn.compose import ColumnTransformer\n",
    "\n",
    "from sklearn.ensemble import RandomForestClassifier\n",
    "from sklearn.model_selection import GridSearchCV\n",
    "from sklearn.linear_model import LogisticRegression\n",
    "from sklearn.tree import DecisionTreeClassifier\n",
    "from sklearn.feature_selection import SelectFromModel\n",
    "from sklearn.ensemble import ExtraTreesClassifier\n",
    "from sklearn.tree import export_graphviz\n",
    "from sklearn.metrics import precision_score, recall_score\n",
    "from sklearn.metrics import f1_score\n",
    "from sklearn.metrics import roc_auc_score"
   ]
  },
  {
   "cell_type": "code",
   "execution_count": 2,
   "metadata": {
    "scrolled": true
   },
   "outputs": [
    {
     "data": {
      "text/html": [
       "<div>\n",
       "<style scoped>\n",
       "    .dataframe tbody tr th:only-of-type {\n",
       "        vertical-align: middle;\n",
       "    }\n",
       "\n",
       "    .dataframe tbody tr th {\n",
       "        vertical-align: top;\n",
       "    }\n",
       "\n",
       "    .dataframe thead th {\n",
       "        text-align: right;\n",
       "    }\n",
       "</style>\n",
       "<table border=\"1\" class=\"dataframe\">\n",
       "  <thead>\n",
       "    <tr style=\"text-align: right;\">\n",
       "      <th></th>\n",
       "      <th>accountNumber</th>\n",
       "      <th>acqCountry</th>\n",
       "      <th>availableMoney</th>\n",
       "      <th>cardCVV</th>\n",
       "      <th>cardLast4Digits</th>\n",
       "      <th>cardPresent</th>\n",
       "      <th>creditLimit</th>\n",
       "      <th>currentBalance</th>\n",
       "      <th>customerId</th>\n",
       "      <th>enteredCVV</th>\n",
       "      <th>...</th>\n",
       "      <th>transactionDateTime_day</th>\n",
       "      <th>transactionDateTime_hour</th>\n",
       "      <th>transactionDateTime_minute</th>\n",
       "      <th>transactionDateTime_second</th>\n",
       "      <th>currentExpDate_year</th>\n",
       "      <th>currentExpDate_month</th>\n",
       "      <th>currentExpDate_day</th>\n",
       "      <th>dateOfLastAddressChange_year</th>\n",
       "      <th>dateOfLastAddressChange_month</th>\n",
       "      <th>dateOfLastAddressChange_day</th>\n",
       "    </tr>\n",
       "  </thead>\n",
       "  <tbody>\n",
       "    <tr>\n",
       "      <th>0</th>\n",
       "      <td>733493772</td>\n",
       "      <td>3</td>\n",
       "      <td>5000.00</td>\n",
       "      <td>492</td>\n",
       "      <td>9184</td>\n",
       "      <td>0</td>\n",
       "      <td>5000.0</td>\n",
       "      <td>0.00</td>\n",
       "      <td>733493772</td>\n",
       "      <td>492</td>\n",
       "      <td>...</td>\n",
       "      <td>8</td>\n",
       "      <td>19</td>\n",
       "      <td>4</td>\n",
       "      <td>50</td>\n",
       "      <td>2020</td>\n",
       "      <td>4</td>\n",
       "      <td>1</td>\n",
       "      <td>2014</td>\n",
       "      <td>8</td>\n",
       "      <td>3</td>\n",
       "    </tr>\n",
       "    <tr>\n",
       "      <th>1</th>\n",
       "      <td>733493772</td>\n",
       "      <td>3</td>\n",
       "      <td>4888.67</td>\n",
       "      <td>492</td>\n",
       "      <td>9184</td>\n",
       "      <td>0</td>\n",
       "      <td>5000.0</td>\n",
       "      <td>111.33</td>\n",
       "      <td>733493772</td>\n",
       "      <td>492</td>\n",
       "      <td>...</td>\n",
       "      <td>9</td>\n",
       "      <td>22</td>\n",
       "      <td>32</td>\n",
       "      <td>39</td>\n",
       "      <td>2023</td>\n",
       "      <td>6</td>\n",
       "      <td>1</td>\n",
       "      <td>2014</td>\n",
       "      <td>8</td>\n",
       "      <td>3</td>\n",
       "    </tr>\n",
       "    <tr>\n",
       "      <th>2</th>\n",
       "      <td>733493772</td>\n",
       "      <td>3</td>\n",
       "      <td>4863.92</td>\n",
       "      <td>492</td>\n",
       "      <td>9184</td>\n",
       "      <td>0</td>\n",
       "      <td>5000.0</td>\n",
       "      <td>136.08</td>\n",
       "      <td>733493772</td>\n",
       "      <td>492</td>\n",
       "      <td>...</td>\n",
       "      <td>11</td>\n",
       "      <td>13</td>\n",
       "      <td>36</td>\n",
       "      <td>55</td>\n",
       "      <td>2027</td>\n",
       "      <td>12</td>\n",
       "      <td>1</td>\n",
       "      <td>2014</td>\n",
       "      <td>8</td>\n",
       "      <td>3</td>\n",
       "    </tr>\n",
       "    <tr>\n",
       "      <th>3</th>\n",
       "      <td>733493772</td>\n",
       "      <td>3</td>\n",
       "      <td>4676.52</td>\n",
       "      <td>492</td>\n",
       "      <td>9184</td>\n",
       "      <td>0</td>\n",
       "      <td>5000.0</td>\n",
       "      <td>323.48</td>\n",
       "      <td>733493772</td>\n",
       "      <td>492</td>\n",
       "      <td>...</td>\n",
       "      <td>11</td>\n",
       "      <td>22</td>\n",
       "      <td>47</td>\n",
       "      <td>46</td>\n",
       "      <td>2029</td>\n",
       "      <td>9</td>\n",
       "      <td>1</td>\n",
       "      <td>2014</td>\n",
       "      <td>8</td>\n",
       "      <td>3</td>\n",
       "    </tr>\n",
       "    <tr>\n",
       "      <th>4</th>\n",
       "      <td>733493772</td>\n",
       "      <td>3</td>\n",
       "      <td>4449.18</td>\n",
       "      <td>492</td>\n",
       "      <td>9184</td>\n",
       "      <td>0</td>\n",
       "      <td>5000.0</td>\n",
       "      <td>550.82</td>\n",
       "      <td>733493772</td>\n",
       "      <td>492</td>\n",
       "      <td>...</td>\n",
       "      <td>16</td>\n",
       "      <td>1</td>\n",
       "      <td>41</td>\n",
       "      <td>11</td>\n",
       "      <td>2024</td>\n",
       "      <td>10</td>\n",
       "      <td>1</td>\n",
       "      <td>2014</td>\n",
       "      <td>8</td>\n",
       "      <td>3</td>\n",
       "    </tr>\n",
       "  </tbody>\n",
       "</table>\n",
       "<p>5 rows × 34 columns</p>\n",
       "</div>"
      ],
      "text/plain": [
       "   accountNumber  acqCountry  availableMoney  cardCVV  cardLast4Digits  \\\n",
       "0      733493772           3         5000.00      492             9184   \n",
       "1      733493772           3         4888.67      492             9184   \n",
       "2      733493772           3         4863.92      492             9184   \n",
       "3      733493772           3         4676.52      492             9184   \n",
       "4      733493772           3         4449.18      492             9184   \n",
       "\n",
       "   cardPresent  creditLimit  currentBalance  customerId  enteredCVV  ...  \\\n",
       "0            0       5000.0            0.00   733493772         492  ...   \n",
       "1            0       5000.0          111.33   733493772         492  ...   \n",
       "2            0       5000.0          136.08   733493772         492  ...   \n",
       "3            0       5000.0          323.48   733493772         492  ...   \n",
       "4            0       5000.0          550.82   733493772         492  ...   \n",
       "\n",
       "   transactionDateTime_day  transactionDateTime_hour  \\\n",
       "0                        8                        19   \n",
       "1                        9                        22   \n",
       "2                       11                        13   \n",
       "3                       11                        22   \n",
       "4                       16                         1   \n",
       "\n",
       "   transactionDateTime_minute  transactionDateTime_second  \\\n",
       "0                           4                          50   \n",
       "1                          32                          39   \n",
       "2                          36                          55   \n",
       "3                          47                          46   \n",
       "4                          41                          11   \n",
       "\n",
       "   currentExpDate_year  currentExpDate_month  currentExpDate_day  \\\n",
       "0                 2020                     4                   1   \n",
       "1                 2023                     6                   1   \n",
       "2                 2027                    12                   1   \n",
       "3                 2029                     9                   1   \n",
       "4                 2024                    10                   1   \n",
       "\n",
       "   dateOfLastAddressChange_year  dateOfLastAddressChange_month  \\\n",
       "0                          2014                              8   \n",
       "1                          2014                              8   \n",
       "2                          2014                              8   \n",
       "3                          2014                              8   \n",
       "4                          2014                              8   \n",
       "\n",
       "   dateOfLastAddressChange_day  \n",
       "0                            3  \n",
       "1                            3  \n",
       "2                            3  \n",
       "3                            3  \n",
       "4                            3  \n",
       "\n",
       "[5 rows x 34 columns]"
      ]
     },
     "execution_count": 2,
     "metadata": {},
     "output_type": "execute_result"
    }
   ],
   "source": [
    "\n",
    "df = pd.read_csv('processed_transaction.csv')\n",
    "df.head()"
   ]
  },
  {
   "cell_type": "code",
   "execution_count": 3,
   "metadata": {
    "scrolled": false
   },
   "outputs": [
    {
     "data": {
      "text/plain": [
       "Index(['accountNumber', 'acqCountry', 'availableMoney', 'cardCVV',\n",
       "       'cardLast4Digits', 'cardPresent', 'creditLimit', 'currentBalance',\n",
       "       'customerId', 'enteredCVV', 'expirationDateKeyInMatch', 'isFraud',\n",
       "       'merchantCategoryCode', 'merchantCountryCode', 'merchantName',\n",
       "       'posConditionCode', 'posEntryMode', 'transactionAmount',\n",
       "       'transactionType', 'accountOpenDate_year', 'accountOpenDate_month',\n",
       "       'accountOpenDate_day', 'transactionDateTime_year',\n",
       "       'transactionDateTime_month', 'transactionDateTime_day',\n",
       "       'transactionDateTime_hour', 'transactionDateTime_minute',\n",
       "       'transactionDateTime_second', 'currentExpDate_year',\n",
       "       'currentExpDate_month', 'currentExpDate_day',\n",
       "       'dateOfLastAddressChange_year', 'dateOfLastAddressChange_month',\n",
       "       'dateOfLastAddressChange_day'],\n",
       "      dtype='object')"
      ]
     },
     "execution_count": 3,
     "metadata": {},
     "output_type": "execute_result"
    }
   ],
   "source": [
    "df.columns"
   ]
  },
  {
   "cell_type": "code",
   "execution_count": 3,
   "metadata": {
    "scrolled": true
   },
   "outputs": [
    {
     "name": "stderr",
     "output_type": "stream",
     "text": [
      "/anaconda3/lib/python3.7/site-packages/sklearn/preprocessing/data.py:645: DataConversionWarning: Data with input dtype int64, float64 were all converted to float64 by StandardScaler.\n",
      "  return self.partial_fit(X, y)\n",
      "/anaconda3/lib/python3.7/site-packages/sklearn/base.py:464: DataConversionWarning: Data with input dtype int64, float64 were all converted to float64 by StandardScaler.\n",
      "  return self.fit(X, **fit_params).transform(X)\n"
     ]
    }
   ],
   "source": [
    "X, y = df.drop(['isFraud'],axis=1), df['isFraud']\n",
    "# scale the features by standard scaler\n",
    "standard_scaler = StandardScaler()\n",
    "X = standard_scaler.fit_transform(X)"
   ]
  },
  {
   "cell_type": "code",
   "execution_count": 5,
   "metadata": {},
   "outputs": [
    {
     "data": {
      "image/png": "[encoded data removed]",
      "text/plain": [
       "<Figure size 432x288 with 1 Axes>"
      ]
     },
     "metadata": {
      "needs_background": "light"
     },
     "output_type": "display_data"
    },
    {
     "data": {
      "text/plain": [
       "0    622954\n",
       "1     10892\n",
       "Name: isFraud, dtype: int64"
      ]
     },
     "execution_count": 5,
     "metadata": {},
     "output_type": "execute_result"
    }
   ],
   "source": [
    "sns.countplot(x='isFraud', data=df, palette='hls')\n",
    "plt.show()\n",
    "df['isFraud'].value_counts()"
   ]
  },
  {
   "cell_type": "code",
   "execution_count": 6,
   "metadata": {
    "scrolled": true
   },
   "outputs": [
    {
     "data": {
      "text/plain": [
       "array([<matplotlib.axes._subplots.AxesSubplot object at 0x1a2502dac8>,\n",
       "       <matplotlib.axes._subplots.AxesSubplot object at 0x1a25c5ea90>],\n",
       "      dtype=object)"
      ]
     },
     "execution_count": 6,
     "metadata": {},
     "output_type": "execute_result"
    },
    {
     "data": {
      "image/png": "[encoded data removed]",
      "text/plain": [
       "<Figure size 432x288 with 2 Axes>"
      ]
     },
     "metadata": {
      "needs_background": "light"
     },
     "output_type": "display_data"
    }
   ],
   "source": [
    "df['transactionAmount'].hist(by=df['isFraud'])"
   ]
  },
  {
   "cell_type": "markdown",
   "metadata": {},
   "source": [
    "As we can see in the plot, most of the fraud transactions happen in low amount. it means there is not very high amount of fraud transactions. it's usaually because The bank would block these kind of high transactions easily for safety. so, it makes sense that the fraud transactions happen consistently in low prices. "
   ]
  },
  {
   "cell_type": "code",
   "execution_count": 10,
   "metadata": {},
   "outputs": [],
   "source": [
    "from sklearn.ensemble import RandomForestClassifier\n",
    "from sklearn.datasets import make_classification\n",
    "from sklearn.metrics import confusion_matrix"
   ]
  },
  {
   "cell_type": "code",
   "execution_count": 7,
   "metadata": {},
   "outputs": [],
   "source": [
    "X_train, X_test, y_train, y_test = train_test_split(X, y, test_size=0.30, random_state=SEED)"
   ]
  },
  {
   "cell_type": "code",
   "execution_count": 8,
   "metadata": {},
   "outputs": [
    {
     "name": "stdout",
     "output_type": "stream",
     "text": [
      "acc: 0.98262 precision: 0.86957 recal: 0.00602\n"
     ]
    }
   ],
   "source": [
    "dt_classifier = DecisionTreeClassifier(max_depth=6, random_state=SEED)\n",
    "dt_classifier.fit(X_train, y_train)\n",
    "y_pred = dt_classifier.predict(X_test)\n",
    "\n",
    "accuracy = round(accuracy_score(y_test, y_pred),5)\n",
    "precision = round(precision_score(y_test, y_pred),5)\n",
    "recall = round(recall_score(y_test, y_pred),5)\n",
    "print('acc: {} precision: {} recal: {}'.format(accuracy, precision, recall))"
   ]
  },
  {
   "cell_type": "code",
   "execution_count": 12,
   "metadata": {
    "scrolled": true
   },
   "outputs": [
    {
     "name": "stdout",
     "output_type": "stream",
     "text": [
      "[[186829      3]\n",
      " [  3302     20]]\n"
     ]
    }
   ],
   "source": [
    "from sklearn.metrics import confusion_matrix\n",
    "confusion_matrix = confusion_matrix(y_test, y_pred)\n",
    "print(confusion_matrix)"
   ]
  },
  {
   "cell_type": "markdown",
   "metadata": {},
   "source": [
    "The result is telling us that we have 186829+20 correct predictions and 3302+3 incorrect predictions."
   ]
  },
  {
   "cell_type": "code",
   "execution_count": 15,
   "metadata": {},
   "outputs": [
    {
     "data": {
      "text/plain": [
       "Text(0.5, 12.5, 'Predicted label')"
      ]
     },
     "execution_count": 15,
     "metadata": {},
     "output_type": "execute_result"
    },
    {
     "data": {
      "image/png": "[encoded data removed]",
      "text/plain": [
       "<Figure size 432x288 with 2 Axes>"
      ]
     },
     "metadata": {
      "needs_background": "light"
     },
     "output_type": "display_data"
    }
   ],
   "source": [
    "\n",
    "import seaborn as sn\n",
    "sn.heatmap(confusion_matrix, annot=True,  fmt='.2f', xticklabels = [\"No\", \"Yes\"] , yticklabels = [\"No\", \"Yes\"],)\n",
    "plt.ylabel('True label',fontsize=12)\n",
    "plt.xlabel('Predicted label',fontsize=12)"
   ]
  },
  {
   "cell_type": "markdown",
   "metadata": {},
   "source": [
    "- Every observation in the testing set is represented in exactly one box\n",
    "- It's a 2x2 matrix because there are 2 response classes"
   ]
  },
  {
   "cell_type": "code",
   "execution_count": 16,
   "metadata": {},
   "outputs": [
    {
     "name": "stdout",
     "output_type": "stream",
     "text": [
      "              precision    recall  f1-score   support\n",
      "\n",
      "           0       0.98      1.00      0.99    186832\n",
      "           1       0.87      0.01      0.01      3322\n",
      "\n",
      "   micro avg       0.98      0.98      0.98    190154\n",
      "   macro avg       0.93      0.50      0.50    190154\n",
      "weighted avg       0.98      0.98      0.97    190154\n",
      "\n"
     ]
    }
   ],
   "source": [
    "from sklearn.metrics import classification_report\n",
    "print(classification_report(y_test, y_pred))"
   ]
  },
  {
   "cell_type": "code",
   "execution_count": 17,
   "metadata": {},
   "outputs": [
    {
     "data": {
      "text/plain": [
       "array([<matplotlib.axes._subplots.AxesSubplot object at 0x1a2616c3c8>,\n",
       "       <matplotlib.axes._subplots.AxesSubplot object at 0x121f0f9b0>],\n",
       "      dtype=object)"
      ]
     },
     "execution_count": 17,
     "metadata": {},
     "output_type": "execute_result"
    },
    {
     "data": {
      "image/png": "[encoded data removed]",
      "text/plain": [
       "<Figure size 432x288 with 2 Axes>"
      ]
     },
     "metadata": {
      "needs_background": "light"
     },
     "output_type": "display_data"
    }
   ],
   "source": [
    "df['currentBalance'].hist(by=df['isFraud'])"
   ]
  },
  {
   "cell_type": "markdown",
   "metadata": {},
   "source": [
    "#### Resample "
   ]
  },
  {
   "cell_type": "code",
   "execution_count": 18,
   "metadata": {},
   "outputs": [
    {
     "data": {
      "text/html": [
       "<div>\n",
       "<style scoped>\n",
       "    .dataframe tbody tr th:only-of-type {\n",
       "        vertical-align: middle;\n",
       "    }\n",
       "\n",
       "    .dataframe tbody tr th {\n",
       "        vertical-align: top;\n",
       "    }\n",
       "\n",
       "    .dataframe thead th {\n",
       "        text-align: right;\n",
       "    }\n",
       "</style>\n",
       "<table border=\"1\" class=\"dataframe\">\n",
       "  <thead>\n",
       "    <tr style=\"text-align: right;\">\n",
       "      <th></th>\n",
       "      <th>accountNumber</th>\n",
       "      <th>acqCountry</th>\n",
       "      <th>availableMoney</th>\n",
       "      <th>cardCVV</th>\n",
       "      <th>cardLast4Digits</th>\n",
       "      <th>cardPresent</th>\n",
       "      <th>creditLimit</th>\n",
       "      <th>currentBalance</th>\n",
       "      <th>customerId</th>\n",
       "      <th>enteredCVV</th>\n",
       "      <th>...</th>\n",
       "      <th>transactionDateTime_day</th>\n",
       "      <th>transactionDateTime_hour</th>\n",
       "      <th>transactionDateTime_minute</th>\n",
       "      <th>transactionDateTime_second</th>\n",
       "      <th>currentExpDate_year</th>\n",
       "      <th>currentExpDate_month</th>\n",
       "      <th>currentExpDate_day</th>\n",
       "      <th>dateOfLastAddressChange_year</th>\n",
       "      <th>dateOfLastAddressChange_month</th>\n",
       "      <th>dateOfLastAddressChange_day</th>\n",
       "    </tr>\n",
       "    <tr>\n",
       "      <th>isFraud</th>\n",
       "      <th></th>\n",
       "      <th></th>\n",
       "      <th></th>\n",
       "      <th></th>\n",
       "      <th></th>\n",
       "      <th></th>\n",
       "      <th></th>\n",
       "      <th></th>\n",
       "      <th></th>\n",
       "      <th></th>\n",
       "      <th></th>\n",
       "      <th></th>\n",
       "      <th></th>\n",
       "      <th></th>\n",
       "      <th></th>\n",
       "      <th></th>\n",
       "      <th></th>\n",
       "      <th></th>\n",
       "      <th></th>\n",
       "      <th></th>\n",
       "      <th></th>\n",
       "    </tr>\n",
       "  </thead>\n",
       "  <tbody>\n",
       "    <tr>\n",
       "      <th>0</th>\n",
       "      <td>622954</td>\n",
       "      <td>622954</td>\n",
       "      <td>622954</td>\n",
       "      <td>622954</td>\n",
       "      <td>622954</td>\n",
       "      <td>622954</td>\n",
       "      <td>622954</td>\n",
       "      <td>622954</td>\n",
       "      <td>622954</td>\n",
       "      <td>622954</td>\n",
       "      <td>...</td>\n",
       "      <td>622954</td>\n",
       "      <td>622954</td>\n",
       "      <td>622954</td>\n",
       "      <td>622954</td>\n",
       "      <td>622954</td>\n",
       "      <td>622954</td>\n",
       "      <td>622954</td>\n",
       "      <td>622954</td>\n",
       "      <td>622954</td>\n",
       "      <td>622954</td>\n",
       "    </tr>\n",
       "    <tr>\n",
       "      <th>1</th>\n",
       "      <td>10892</td>\n",
       "      <td>10892</td>\n",
       "      <td>10892</td>\n",
       "      <td>10892</td>\n",
       "      <td>10892</td>\n",
       "      <td>10892</td>\n",
       "      <td>10892</td>\n",
       "      <td>10892</td>\n",
       "      <td>10892</td>\n",
       "      <td>10892</td>\n",
       "      <td>...</td>\n",
       "      <td>10892</td>\n",
       "      <td>10892</td>\n",
       "      <td>10892</td>\n",
       "      <td>10892</td>\n",
       "      <td>10892</td>\n",
       "      <td>10892</td>\n",
       "      <td>10892</td>\n",
       "      <td>10892</td>\n",
       "      <td>10892</td>\n",
       "      <td>10892</td>\n",
       "    </tr>\n",
       "  </tbody>\n",
       "</table>\n",
       "<p>2 rows × 33 columns</p>\n",
       "</div>"
      ],
      "text/plain": [
       "         accountNumber  acqCountry  availableMoney  cardCVV  cardLast4Digits  \\\n",
       "isFraud                                                                        \n",
       "0               622954      622954          622954   622954           622954   \n",
       "1                10892       10892           10892    10892            10892   \n",
       "\n",
       "         cardPresent  creditLimit  currentBalance  customerId  enteredCVV  \\\n",
       "isFraud                                                                     \n",
       "0             622954       622954          622954      622954      622954   \n",
       "1              10892        10892           10892       10892       10892   \n",
       "\n",
       "         ...  transactionDateTime_day  transactionDateTime_hour  \\\n",
       "isFraud  ...                                                      \n",
       "0        ...                   622954                    622954   \n",
       "1        ...                    10892                     10892   \n",
       "\n",
       "         transactionDateTime_minute  transactionDateTime_second  \\\n",
       "isFraud                                                           \n",
       "0                            622954                      622954   \n",
       "1                             10892                       10892   \n",
       "\n",
       "         currentExpDate_year  currentExpDate_month  currentExpDate_day  \\\n",
       "isFraud                                                                  \n",
       "0                     622954                622954              622954   \n",
       "1                      10892                 10892               10892   \n",
       "\n",
       "         dateOfLastAddressChange_year  dateOfLastAddressChange_month  \\\n",
       "isFraud                                                                \n",
       "0                              622954                         622954   \n",
       "1                               10892                          10892   \n",
       "\n",
       "         dateOfLastAddressChange_day  \n",
       "isFraud                               \n",
       "0                             622954  \n",
       "1                              10892  \n",
       "\n",
       "[2 rows x 33 columns]"
      ]
     },
     "execution_count": 18,
     "metadata": {},
     "output_type": "execute_result"
    }
   ],
   "source": [
    "# unblanaced data\n",
    "df.groupby('isFraud').count()"
   ]
  },
  {
   "cell_type": "code",
   "execution_count": 19,
   "metadata": {},
   "outputs": [],
   "source": [
    "df_false = df[df.isFraud==False]"
   ]
  },
  {
   "cell_type": "code",
   "execution_count": 20,
   "metadata": {},
   "outputs": [],
   "source": [
    "df_true = df[df.isFraud==True]"
   ]
  },
  {
   "cell_type": "code",
   "execution_count": 21,
   "metadata": {},
   "outputs": [],
   "source": [
    "df_false_sample = df_false.sample(df_true.shape[0], replace=False)"
   ]
  },
  {
   "cell_type": "code",
   "execution_count": 22,
   "metadata": {},
   "outputs": [],
   "source": [
    "df = df_true.append(df_false_sample)"
   ]
  },
  {
   "cell_type": "code",
   "execution_count": 23,
   "metadata": {
    "scrolled": true
   },
   "outputs": [
    {
     "data": {
      "text/html": [
       "<div>\n",
       "<style scoped>\n",
       "    .dataframe tbody tr th:only-of-type {\n",
       "        vertical-align: middle;\n",
       "    }\n",
       "\n",
       "    .dataframe tbody tr th {\n",
       "        vertical-align: top;\n",
       "    }\n",
       "\n",
       "    .dataframe thead th {\n",
       "        text-align: right;\n",
       "    }\n",
       "</style>\n",
       "<table border=\"1\" class=\"dataframe\">\n",
       "  <thead>\n",
       "    <tr style=\"text-align: right;\">\n",
       "      <th></th>\n",
       "      <th>accountNumber</th>\n",
       "      <th>acqCountry</th>\n",
       "      <th>availableMoney</th>\n",
       "      <th>cardCVV</th>\n",
       "      <th>cardLast4Digits</th>\n",
       "      <th>cardPresent</th>\n",
       "      <th>creditLimit</th>\n",
       "      <th>currentBalance</th>\n",
       "      <th>customerId</th>\n",
       "      <th>enteredCVV</th>\n",
       "      <th>...</th>\n",
       "      <th>transactionDateTime_day</th>\n",
       "      <th>transactionDateTime_hour</th>\n",
       "      <th>transactionDateTime_minute</th>\n",
       "      <th>transactionDateTime_second</th>\n",
       "      <th>currentExpDate_year</th>\n",
       "      <th>currentExpDate_month</th>\n",
       "      <th>currentExpDate_day</th>\n",
       "      <th>dateOfLastAddressChange_year</th>\n",
       "      <th>dateOfLastAddressChange_month</th>\n",
       "      <th>dateOfLastAddressChange_day</th>\n",
       "    </tr>\n",
       "    <tr>\n",
       "      <th>isFraud</th>\n",
       "      <th></th>\n",
       "      <th></th>\n",
       "      <th></th>\n",
       "      <th></th>\n",
       "      <th></th>\n",
       "      <th></th>\n",
       "      <th></th>\n",
       "      <th></th>\n",
       "      <th></th>\n",
       "      <th></th>\n",
       "      <th></th>\n",
       "      <th></th>\n",
       "      <th></th>\n",
       "      <th></th>\n",
       "      <th></th>\n",
       "      <th></th>\n",
       "      <th></th>\n",
       "      <th></th>\n",
       "      <th></th>\n",
       "      <th></th>\n",
       "      <th></th>\n",
       "    </tr>\n",
       "  </thead>\n",
       "  <tbody>\n",
       "    <tr>\n",
       "      <th>0</th>\n",
       "      <td>10892</td>\n",
       "      <td>10892</td>\n",
       "      <td>10892</td>\n",
       "      <td>10892</td>\n",
       "      <td>10892</td>\n",
       "      <td>10892</td>\n",
       "      <td>10892</td>\n",
       "      <td>10892</td>\n",
       "      <td>10892</td>\n",
       "      <td>10892</td>\n",
       "      <td>...</td>\n",
       "      <td>10892</td>\n",
       "      <td>10892</td>\n",
       "      <td>10892</td>\n",
       "      <td>10892</td>\n",
       "      <td>10892</td>\n",
       "      <td>10892</td>\n",
       "      <td>10892</td>\n",
       "      <td>10892</td>\n",
       "      <td>10892</td>\n",
       "      <td>10892</td>\n",
       "    </tr>\n",
       "    <tr>\n",
       "      <th>1</th>\n",
       "      <td>10892</td>\n",
       "      <td>10892</td>\n",
       "      <td>10892</td>\n",
       "      <td>10892</td>\n",
       "      <td>10892</td>\n",
       "      <td>10892</td>\n",
       "      <td>10892</td>\n",
       "      <td>10892</td>\n",
       "      <td>10892</td>\n",
       "      <td>10892</td>\n",
       "      <td>...</td>\n",
       "      <td>10892</td>\n",
       "      <td>10892</td>\n",
       "      <td>10892</td>\n",
       "      <td>10892</td>\n",
       "      <td>10892</td>\n",
       "      <td>10892</td>\n",
       "      <td>10892</td>\n",
       "      <td>10892</td>\n",
       "      <td>10892</td>\n",
       "      <td>10892</td>\n",
       "    </tr>\n",
       "  </tbody>\n",
       "</table>\n",
       "<p>2 rows × 33 columns</p>\n",
       "</div>"
      ],
      "text/plain": [
       "         accountNumber  acqCountry  availableMoney  cardCVV  cardLast4Digits  \\\n",
       "isFraud                                                                        \n",
       "0                10892       10892           10892    10892            10892   \n",
       "1                10892       10892           10892    10892            10892   \n",
       "\n",
       "         cardPresent  creditLimit  currentBalance  customerId  enteredCVV  \\\n",
       "isFraud                                                                     \n",
       "0              10892        10892           10892       10892       10892   \n",
       "1              10892        10892           10892       10892       10892   \n",
       "\n",
       "         ...  transactionDateTime_day  transactionDateTime_hour  \\\n",
       "isFraud  ...                                                      \n",
       "0        ...                    10892                     10892   \n",
       "1        ...                    10892                     10892   \n",
       "\n",
       "         transactionDateTime_minute  transactionDateTime_second  \\\n",
       "isFraud                                                           \n",
       "0                             10892                       10892   \n",
       "1                             10892                       10892   \n",
       "\n",
       "         currentExpDate_year  currentExpDate_month  currentExpDate_day  \\\n",
       "isFraud                                                                  \n",
       "0                      10892                 10892               10892   \n",
       "1                      10892                 10892               10892   \n",
       "\n",
       "         dateOfLastAddressChange_year  dateOfLastAddressChange_month  \\\n",
       "isFraud                                                                \n",
       "0                               10892                          10892   \n",
       "1                               10892                          10892   \n",
       "\n",
       "         dateOfLastAddressChange_day  \n",
       "isFraud                               \n",
       "0                              10892  \n",
       "1                              10892  \n",
       "\n",
       "[2 rows x 33 columns]"
      ]
     },
     "execution_count": 23,
     "metadata": {},
     "output_type": "execute_result"
    }
   ],
   "source": [
    "df.groupby('isFraud').count()"
   ]
  },
  {
   "cell_type": "code",
   "execution_count": 24,
   "metadata": {},
   "outputs": [
    {
     "data": {
      "image/png": "[encoded data removed]",
      "text/plain": [
       "<Figure size 432x288 with 1 Axes>"
      ]
     },
     "metadata": {
      "needs_background": "light"
     },
     "output_type": "display_data"
    },
    {
     "data": {
      "text/plain": [
       "1    10892\n",
       "0    10892\n",
       "Name: isFraud, dtype: int64"
      ]
     },
     "execution_count": 24,
     "metadata": {},
     "output_type": "execute_result"
    }
   ],
   "source": [
    "sns.countplot(x='isFraud', data=df, palette='hls')\n",
    "plt.show()\n",
    "df['isFraud'].value_counts()"
   ]
  },
  {
   "cell_type": "code",
   "execution_count": 25,
   "metadata": {},
   "outputs": [],
   "source": [
    "# before we start anything, we split data into train and test, and put aside test part\n",
    "train_set, test_set = train_test_split(df, test_size = 0.2, random_state = 42)"
   ]
  },
  {
   "cell_type": "code",
   "execution_count": 26,
   "metadata": {},
   "outputs": [],
   "source": [
    "df_x = train_set.drop('isFraud',axis=1)\n",
    "df_y = train_set['isFraud'].copy()"
   ]
  },
  {
   "cell_type": "code",
   "execution_count": 27,
   "metadata": {},
   "outputs": [],
   "source": [
    "df_x_numeric = df_x.drop(['acqCountry','cardPresent',\n",
    "                          'expirationDateKeyInMatch','merchantCategoryCode','merchantCountryCode'\n",
    "                         ], axis=1)"
   ]
  },
  {
   "cell_type": "code",
   "execution_count": 34,
   "metadata": {},
   "outputs": [],
   "source": [
    "num_pipeline = Pipeline([('std_scalaer', StandardScaler())])\n",
    "cat_pipeline = Pipeline([('onehot',OneHotEncoder())])\n",
    "num_attributes = list(df_x_numeric)\n",
    "cat_attributes = ['acqCountry','cardPresent','expirationDateKeyInMatch',\n",
    "                  'merchantCategoryCode','merchantCountryCode']\n",
    "    \n",
    "    \n",
    "full_pipeline = ColumnTransformer([\n",
    "                ('num',num_pipeline,num_attributes),\n",
    "                ('cat',cat_pipeline,cat_attributes)])\n",
    "\n"
   ]
  },
  {
   "cell_type": "code",
   "execution_count": 35,
   "metadata": {},
   "outputs": [
    {
     "name": "stderr",
     "output_type": "stream",
     "text": [
      "/anaconda3/lib/python3.7/site-packages/sklearn/preprocessing/data.py:645: DataConversionWarning: Data with input dtype int64, float64 were all converted to float64 by StandardScaler.\n",
      "  return self.partial_fit(X, y)\n",
      "/anaconda3/lib/python3.7/site-packages/sklearn/base.py:464: DataConversionWarning: Data with input dtype int64, float64 were all converted to float64 by StandardScaler.\n",
      "  return self.fit(X, **fit_params).transform(X)\n",
      "/anaconda3/lib/python3.7/site-packages/sklearn/preprocessing/_encoders.py:371: FutureWarning: The handling of integer data will change in version 0.22. Currently, the categories are determined based on the range [0, max(values)], while in the future they will be determined based on the unique values.\n",
      "If you want the future behaviour and silence this warning, you can specify \"categories='auto'\".\n",
      "In case you used a LabelEncoder before this OneHotEncoder to convert the categories to integers, then you can now use the OneHotEncoder directly.\n",
      "  warnings.warn(msg, FutureWarning)\n"
     ]
    }
   ],
   "source": [
    "df_prepared = full_pipeline.fit_transform(df_x)"
   ]
  },
  {
   "cell_type": "code",
   "execution_count": 36,
   "metadata": {},
   "outputs": [],
   "source": [
    "df_x_test = test_set.drop('isFraud',axis=1)\n",
    "df_y_test = test_set['isFraud'].copy()"
   ]
  },
  {
   "cell_type": "code",
   "execution_count": 37,
   "metadata": {},
   "outputs": [
    {
     "name": "stderr",
     "output_type": "stream",
     "text": [
      "/anaconda3/lib/python3.7/site-packages/sklearn/preprocessing/data.py:645: DataConversionWarning: Data with input dtype int64, float64 were all converted to float64 by StandardScaler.\n",
      "  return self.partial_fit(X, y)\n",
      "/anaconda3/lib/python3.7/site-packages/sklearn/base.py:464: DataConversionWarning: Data with input dtype int64, float64 were all converted to float64 by StandardScaler.\n",
      "  return self.fit(X, **fit_params).transform(X)\n",
      "/anaconda3/lib/python3.7/site-packages/sklearn/preprocessing/_encoders.py:371: FutureWarning: The handling of integer data will change in version 0.22. Currently, the categories are determined based on the range [0, max(values)], while in the future they will be determined based on the unique values.\n",
      "If you want the future behaviour and silence this warning, you can specify \"categories='auto'\".\n",
      "In case you used a LabelEncoder before this OneHotEncoder to convert the categories to integers, then you can now use the OneHotEncoder directly.\n",
      "  warnings.warn(msg, FutureWarning)\n"
     ]
    }
   ],
   "source": [
    "df_x_test_prepared = full_pipeline.fit_transform(df_x_test)"
   ]
  },
  {
   "cell_type": "code",
   "execution_count": 38,
   "metadata": {},
   "outputs": [],
   "source": [
    "# build series of models:\n",
    "rf_clf = RandomForestClassifier(n_estimators=10) # random forest\n",
    "lr_clf = LogisticRegression() # Logistic Regression\n",
    "tree_clf = DecisionTreeClassifier(max_depth = 2) # tree"
   ]
  },
  {
   "cell_type": "code",
   "execution_count": 39,
   "metadata": {},
   "outputs": [
    {
     "name": "stderr",
     "output_type": "stream",
     "text": [
      "/anaconda3/lib/python3.7/site-packages/sklearn/linear_model/logistic.py:433: FutureWarning: Default solver will be changed to 'lbfgs' in 0.22. Specify a solver to silence this warning.\n",
      "  FutureWarning)\n"
     ]
    },
    {
     "data": {
      "text/plain": [
       "DecisionTreeClassifier(class_weight=None, criterion='gini', max_depth=2,\n",
       "            max_features=None, max_leaf_nodes=None,\n",
       "            min_impurity_decrease=0.0, min_impurity_split=None,\n",
       "            min_samples_leaf=1, min_samples_split=2,\n",
       "            min_weight_fraction_leaf=0.0, presort=False, random_state=None,\n",
       "            splitter='best')"
      ]
     },
     "execution_count": 39,
     "metadata": {},
     "output_type": "execute_result"
    }
   ],
   "source": [
    "rf_clf.fit(df_prepared, df_y)\n",
    "lr_clf.fit(df_prepared, df_y)\n",
    "tree_clf.fit(df_prepared, df_y)"
   ]
  },
  {
   "cell_type": "code",
   "execution_count": 40,
   "metadata": {},
   "outputs": [],
   "source": [
    "# in_sample evaluation: evaluate classifier with train data."
   ]
  },
  {
   "cell_type": "code",
   "execution_count": 41,
   "metadata": {},
   "outputs": [],
   "source": [
    "y_pred_rf_tr = rf_clf.predict(df_prepared)\n",
    "y_pred_lr_tr = lr_clf.predict(df_prepared)\n",
    "y_pred_tree_tr = tree_clf.predict(df_prepared)"
   ]
  },
  {
   "cell_type": "code",
   "execution_count": 42,
   "metadata": {
    "scrolled": true
   },
   "outputs": [
    {
     "name": "stdout",
     "output_type": "stream",
     "text": [
      "-------   Let's loook at in_sample performance (AUC)----------------\n",
      "AUC for Random Forest Classifier is 0.9892170158883025\n",
      "AUC for Logistic Regression Classifier is 0.6501478827011484\n",
      "AUC for Tree Classifier is 0.636392539272946\n"
     ]
    }
   ],
   "source": [
    "print(\"-------   Let's loook at in_sample performance (AUC)----------------\")\n",
    "print('AUC for Random Forest Classifier is {}'.format(roc_auc_score(df_y, y_pred_rf_tr)))\n",
    "print('AUC for Logistic Regression Classifier is {}'.format(roc_auc_score(df_y, y_pred_lr_tr)))\n",
    "print('AUC for Tree Classifier is {}'.format(roc_auc_score(df_y, y_pred_tree_tr)))"
   ]
  },
  {
   "cell_type": "code",
   "execution_count": 54,
   "metadata": {},
   "outputs": [
    {
     "name": "stdout",
     "output_type": "stream",
     "text": [
      "recall for Tree Classifier: 0.75849\n"
     ]
    }
   ],
   "source": [
    "recall = round(recall_score(df_y, y_pred_tree_tr),5)\n",
    "print('recall for Tree Classifier:' , recall)"
   ]
  },
  {
   "cell_type": "code",
   "execution_count": 43,
   "metadata": {},
   "outputs": [
    {
     "name": "stdout",
     "output_type": "stream",
     "text": [
      "-------   Let's loook at in_sample performance (F1 Score) ----------------\n",
      "F1 score for Random Forest Classifier is 0.9891492554542306\n",
      "F1 score for Logistic Regression Classifier is 0.6468578048074138\n",
      "F1 score for Tree Classifier is 0.6761744108776773\n"
     ]
    }
   ],
   "source": [
    "print(\"-------   Let's loook at in_sample performance (F1 Score) ----------------\")\n",
    "print('F1 score for Random Forest Classifier is {}'.format(f1_score(df_y, y_pred_rf_tr)))\n",
    "print('F1 score for Logistic Regression Classifier is {}'.format(f1_score(df_y, y_pred_lr_tr)))\n",
    "print('F1 score for Tree Classifier is {}'.format(f1_score(df_y, y_pred_tree_tr)))"
   ]
  },
  {
   "cell_type": "code",
   "execution_count": 44,
   "metadata": {},
   "outputs": [],
   "source": [
    "# out_of_sample evaluation : Evaluate classifier with test data"
   ]
  },
  {
   "cell_type": "code",
   "execution_count": 45,
   "metadata": {},
   "outputs": [],
   "source": [
    "y_pred_rf = rf_clf.predict(df_x_test_prepared)\n",
    "y_pred_lr = lr_clf.predict(df_x_test_prepared)\n",
    "y_pred_tree = tree_clf.predict(df_x_test_prepared)"
   ]
  },
  {
   "cell_type": "code",
   "execution_count": 46,
   "metadata": {},
   "outputs": [
    {
     "name": "stdout",
     "output_type": "stream",
     "text": [
      "-------   Let's loook at out_of_sample performance (AUC) ----------------\n",
      "AUC for Random Forest Classifier is 0.680289391506631\n",
      "AUC for Logistic Regression Classifier is 0.6674020506466743\n",
      "AUC for Tree Classifier is 0.6558424044738318\n"
     ]
    }
   ],
   "source": [
    "print(\"-------   Let's loook at out_of_sample performance (AUC) ----------------\")\n",
    "print('AUC for Random Forest Classifier is {}'.format(roc_auc_score(df_y_test, y_pred_rf)))\n",
    "print('AUC for Logistic Regression Classifier is {}'.format(roc_auc_score(df_y_test, y_pred_lr)))\n",
    "print('AUC for Tree Classifier is {}'.format(roc_auc_score(df_y_test, y_pred_tree)))"
   ]
  },
  {
   "cell_type": "code",
   "execution_count": 47,
   "metadata": {},
   "outputs": [
    {
     "name": "stdout",
     "output_type": "stream",
     "text": [
      "-------   Let's loook at out_of_sample performance (F1 Score) ----------------\n",
      "F1 score for Random Forest Classifier is 0.6537313432835821\n",
      "F1 score for Logistic Regression Classifier is 0.6634146341463415\n",
      "F1 score for Tree Classifier is 0.6907067793117658\n"
     ]
    }
   ],
   "source": [
    "print(\"-------   Let's loook at out_of_sample performance (F1 Score) ----------------\")\n",
    "print('F1 score for Random Forest Classifier is {}'.format(f1_score(df_y_test, y_pred_rf)))\n",
    "print('F1 score for Logistic Regression Classifier is {}'.format(f1_score(df_y_test, y_pred_lr)))\n",
    "print('F1 score for Tree Classifier is {}'.format(f1_score(df_y_test, y_pred_tree)))"
   ]
  },
  {
   "cell_type": "code",
   "execution_count": null,
   "metadata": {},
   "outputs": [],
   "source": []
  }
 ],
 "metadata": {
  "kernelspec": {
   "display_name": "Python 3",
   "language": "python",
   "name": "python3"
  },
  "language_info": {
   "codemirror_mode": {
    "name": "ipython",
    "version": 3
   },
   "file_extension": ".py",
   "mimetype": "text/x-python",
   "name": "python",
   "nbconvert_exporter": "python",
   "pygments_lexer": "ipython3",
   "version": "3.7.3"
  }
 },
 "nbformat": 4,
 "nbformat_minor": 2
}
