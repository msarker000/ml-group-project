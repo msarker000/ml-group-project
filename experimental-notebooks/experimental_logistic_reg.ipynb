{
 "cells": [
  {
   "cell_type": "markdown",
   "metadata": {},
   "source": [
    "#### This notebook we will work in Logistic Regression\n",
    "\n"
   ]
  },
  {
   "cell_type": "code",
   "execution_count": 10,
   "metadata": {},
   "outputs": [],
   "source": [
    "import numpy as np\n",
    "import pandas as pd\n",
    "import matplotlib.pyplot as plt\n",
    "from sklearn.preprocessing import StandardScaler\n",
    "from sklearn.model_selection  import train_test_split\n",
    "from sklearn.linear_model import LogisticRegression\n",
    "from sklearn.metrics import accuracy_score, precision_score, recall_score\n",
    "from sklearn.model_selection import cross_val_score\n",
    "import seaborn as sns\n",
    "sns.set(style=\"white\")\n",
    "sns.set(style=\"whitegrid\", color_codes=True)\n",
    "from sklearn.model_selection import GridSearchCV\n",
    "\n",
    "%matplotlib inline\n",
    "SEED = 42"
   ]
  },
  {
   "cell_type": "code",
   "execution_count": 11,
   "metadata": {},
   "outputs": [
    {
     "data": {
      "text/html": [
       "<div>\n",
       "<style scoped>\n",
       "    .dataframe tbody tr th:only-of-type {\n",
       "        vertical-align: middle;\n",
       "    }\n",
       "\n",
       "    .dataframe tbody tr th {\n",
       "        vertical-align: top;\n",
       "    }\n",
       "\n",
       "    .dataframe thead th {\n",
       "        text-align: right;\n",
       "    }\n",
       "</style>\n",
       "<table border=\"1\" class=\"dataframe\">\n",
       "  <thead>\n",
       "    <tr style=\"text-align: right;\">\n",
       "      <th></th>\n",
       "      <th>accountNumber</th>\n",
       "      <th>acqCountry</th>\n",
       "      <th>availableMoney</th>\n",
       "      <th>cardCVV</th>\n",
       "      <th>cardLast4Digits</th>\n",
       "      <th>cardPresent</th>\n",
       "      <th>creditLimit</th>\n",
       "      <th>currentBalance</th>\n",
       "      <th>customerId</th>\n",
       "      <th>enteredCVV</th>\n",
       "      <th>...</th>\n",
       "      <th>transactionDateTime_day</th>\n",
       "      <th>transactionDateTime_hour</th>\n",
       "      <th>transactionDateTime_minute</th>\n",
       "      <th>transactionDateTime_second</th>\n",
       "      <th>currentExpDate_year</th>\n",
       "      <th>currentExpDate_month</th>\n",
       "      <th>currentExpDate_day</th>\n",
       "      <th>dateOfLastAddressChange_year</th>\n",
       "      <th>dateOfLastAddressChange_month</th>\n",
       "      <th>dateOfLastAddressChange_day</th>\n",
       "    </tr>\n",
       "  </thead>\n",
       "  <tbody>\n",
       "    <tr>\n",
       "      <th>0</th>\n",
       "      <td>733493772</td>\n",
       "      <td>3</td>\n",
       "      <td>5000.00</td>\n",
       "      <td>492</td>\n",
       "      <td>9184</td>\n",
       "      <td>0</td>\n",
       "      <td>5000.0</td>\n",
       "      <td>0.00</td>\n",
       "      <td>733493772</td>\n",
       "      <td>492</td>\n",
       "      <td>...</td>\n",
       "      <td>8</td>\n",
       "      <td>19</td>\n",
       "      <td>4</td>\n",
       "      <td>50</td>\n",
       "      <td>2020</td>\n",
       "      <td>4</td>\n",
       "      <td>1</td>\n",
       "      <td>2014</td>\n",
       "      <td>8</td>\n",
       "      <td>3</td>\n",
       "    </tr>\n",
       "    <tr>\n",
       "      <th>1</th>\n",
       "      <td>733493772</td>\n",
       "      <td>3</td>\n",
       "      <td>4888.67</td>\n",
       "      <td>492</td>\n",
       "      <td>9184</td>\n",
       "      <td>0</td>\n",
       "      <td>5000.0</td>\n",
       "      <td>111.33</td>\n",
       "      <td>733493772</td>\n",
       "      <td>492</td>\n",
       "      <td>...</td>\n",
       "      <td>9</td>\n",
       "      <td>22</td>\n",
       "      <td>32</td>\n",
       "      <td>39</td>\n",
       "      <td>2023</td>\n",
       "      <td>6</td>\n",
       "      <td>1</td>\n",
       "      <td>2014</td>\n",
       "      <td>8</td>\n",
       "      <td>3</td>\n",
       "    </tr>\n",
       "    <tr>\n",
       "      <th>2</th>\n",
       "      <td>733493772</td>\n",
       "      <td>3</td>\n",
       "      <td>4863.92</td>\n",
       "      <td>492</td>\n",
       "      <td>9184</td>\n",
       "      <td>0</td>\n",
       "      <td>5000.0</td>\n",
       "      <td>136.08</td>\n",
       "      <td>733493772</td>\n",
       "      <td>492</td>\n",
       "      <td>...</td>\n",
       "      <td>11</td>\n",
       "      <td>13</td>\n",
       "      <td>36</td>\n",
       "      <td>55</td>\n",
       "      <td>2027</td>\n",
       "      <td>12</td>\n",
       "      <td>1</td>\n",
       "      <td>2014</td>\n",
       "      <td>8</td>\n",
       "      <td>3</td>\n",
       "    </tr>\n",
       "    <tr>\n",
       "      <th>3</th>\n",
       "      <td>733493772</td>\n",
       "      <td>3</td>\n",
       "      <td>4676.52</td>\n",
       "      <td>492</td>\n",
       "      <td>9184</td>\n",
       "      <td>0</td>\n",
       "      <td>5000.0</td>\n",
       "      <td>323.48</td>\n",
       "      <td>733493772</td>\n",
       "      <td>492</td>\n",
       "      <td>...</td>\n",
       "      <td>11</td>\n",
       "      <td>22</td>\n",
       "      <td>47</td>\n",
       "      <td>46</td>\n",
       "      <td>2029</td>\n",
       "      <td>9</td>\n",
       "      <td>1</td>\n",
       "      <td>2014</td>\n",
       "      <td>8</td>\n",
       "      <td>3</td>\n",
       "    </tr>\n",
       "    <tr>\n",
       "      <th>4</th>\n",
       "      <td>733493772</td>\n",
       "      <td>3</td>\n",
       "      <td>4449.18</td>\n",
       "      <td>492</td>\n",
       "      <td>9184</td>\n",
       "      <td>0</td>\n",
       "      <td>5000.0</td>\n",
       "      <td>550.82</td>\n",
       "      <td>733493772</td>\n",
       "      <td>492</td>\n",
       "      <td>...</td>\n",
       "      <td>16</td>\n",
       "      <td>1</td>\n",
       "      <td>41</td>\n",
       "      <td>11</td>\n",
       "      <td>2024</td>\n",
       "      <td>10</td>\n",
       "      <td>1</td>\n",
       "      <td>2014</td>\n",
       "      <td>8</td>\n",
       "      <td>3</td>\n",
       "    </tr>\n",
       "  </tbody>\n",
       "</table>\n",
       "<p>5 rows × 34 columns</p>\n",
       "</div>"
      ],
      "text/plain": [
       "   accountNumber  acqCountry  availableMoney  cardCVV  cardLast4Digits  \\\n",
       "0      733493772           3         5000.00      492             9184   \n",
       "1      733493772           3         4888.67      492             9184   \n",
       "2      733493772           3         4863.92      492             9184   \n",
       "3      733493772           3         4676.52      492             9184   \n",
       "4      733493772           3         4449.18      492             9184   \n",
       "\n",
       "   cardPresent  creditLimit  currentBalance  customerId  enteredCVV  ...  \\\n",
       "0            0       5000.0            0.00   733493772         492  ...   \n",
       "1            0       5000.0          111.33   733493772         492  ...   \n",
       "2            0       5000.0          136.08   733493772         492  ...   \n",
       "3            0       5000.0          323.48   733493772         492  ...   \n",
       "4            0       5000.0          550.82   733493772         492  ...   \n",
       "\n",
       "   transactionDateTime_day  transactionDateTime_hour  \\\n",
       "0                        8                        19   \n",
       "1                        9                        22   \n",
       "2                       11                        13   \n",
       "3                       11                        22   \n",
       "4                       16                         1   \n",
       "\n",
       "   transactionDateTime_minute  transactionDateTime_second  \\\n",
       "0                           4                          50   \n",
       "1                          32                          39   \n",
       "2                          36                          55   \n",
       "3                          47                          46   \n",
       "4                          41                          11   \n",
       "\n",
       "   currentExpDate_year  currentExpDate_month  currentExpDate_day  \\\n",
       "0                 2020                     4                   1   \n",
       "1                 2023                     6                   1   \n",
       "2                 2027                    12                   1   \n",
       "3                 2029                     9                   1   \n",
       "4                 2024                    10                   1   \n",
       "\n",
       "   dateOfLastAddressChange_year  dateOfLastAddressChange_month  \\\n",
       "0                          2014                              8   \n",
       "1                          2014                              8   \n",
       "2                          2014                              8   \n",
       "3                          2014                              8   \n",
       "4                          2014                              8   \n",
       "\n",
       "   dateOfLastAddressChange_day  \n",
       "0                            3  \n",
       "1                            3  \n",
       "2                            3  \n",
       "3                            3  \n",
       "4                            3  \n",
       "\n",
       "[5 rows x 34 columns]"
      ]
     },
     "execution_count": 11,
     "metadata": {},
     "output_type": "execute_result"
    }
   ],
   "source": [
    "# Read processe file\n",
    "df = pd.read_csv('../data/processed_transaction.csv')\n",
    "df.head()"
   ]
  },
  {
   "cell_type": "markdown",
   "metadata": {},
   "source": [
    "#### Lets separate Level and features, Scaled features\n",
    "\n"
   ]
  },
  {
   "cell_type": "code",
   "execution_count": 12,
   "metadata": {},
   "outputs": [],
   "source": [
    "X, y = df.drop(['isFraud'],axis=1), df['isFraud']\n",
    "# scale the features by standard scaler\n",
    "standard_scaler = StandardScaler()\n",
    "X = standard_scaler.fit_transform(X)"
   ]
  },
  {
   "cell_type": "code",
   "execution_count": 13,
   "metadata": {},
   "outputs": [
    {
     "name": "stdout",
     "output_type": "stream",
     "text": [
      "<class 'pandas.core.frame.DataFrame'>\n",
      "RangeIndex: 633846 entries, 0 to 633845\n",
      "Data columns (total 34 columns):\n",
      " #   Column                         Non-Null Count   Dtype  \n",
      "---  ------                         --------------   -----  \n",
      " 0   accountNumber                  633846 non-null  int64  \n",
      " 1   acqCountry                     633846 non-null  int64  \n",
      " 2   availableMoney                 633846 non-null  float64\n",
      " 3   cardCVV                        633846 non-null  int64  \n",
      " 4   cardLast4Digits                633846 non-null  int64  \n",
      " 5   cardPresent                    633846 non-null  int64  \n",
      " 6   creditLimit                    633846 non-null  float64\n",
      " 7   currentBalance                 633846 non-null  float64\n",
      " 8   customerId                     633846 non-null  int64  \n",
      " 9   enteredCVV                     633846 non-null  int64  \n",
      " 10  expirationDateKeyInMatch       633846 non-null  int64  \n",
      " 11  isFraud                        633846 non-null  int64  \n",
      " 12  merchantCategoryCode           633846 non-null  int64  \n",
      " 13  merchantCountryCode            633846 non-null  int64  \n",
      " 14  merchantName                   633846 non-null  int64  \n",
      " 15  posConditionCode               633846 non-null  int64  \n",
      " 16  posEntryMode                   633846 non-null  int64  \n",
      " 17  transactionAmount              633846 non-null  float64\n",
      " 18  transactionType                633846 non-null  int64  \n",
      " 19  accountOpenDate_year           633846 non-null  int64  \n",
      " 20  accountOpenDate_month          633846 non-null  int64  \n",
      " 21  accountOpenDate_day            633846 non-null  int64  \n",
      " 22  transactionDateTime_year       633846 non-null  int64  \n",
      " 23  transactionDateTime_month      633846 non-null  int64  \n",
      " 24  transactionDateTime_day        633846 non-null  int64  \n",
      " 25  transactionDateTime_hour       633846 non-null  int64  \n",
      " 26  transactionDateTime_minute     633846 non-null  int64  \n",
      " 27  transactionDateTime_second     633846 non-null  int64  \n",
      " 28  currentExpDate_year            633846 non-null  int64  \n",
      " 29  currentExpDate_month           633846 non-null  int64  \n",
      " 30  currentExpDate_day             633846 non-null  int64  \n",
      " 31  dateOfLastAddressChange_year   633846 non-null  int64  \n",
      " 32  dateOfLastAddressChange_month  633846 non-null  int64  \n",
      " 33  dateOfLastAddressChange_day    633846 non-null  int64  \n",
      "dtypes: float64(4), int64(30)\n",
      "memory usage: 164.4 MB\n"
     ]
    }
   ],
   "source": [
    "df.info()"
   ]
  },
  {
   "cell_type": "markdown",
   "metadata": {},
   "source": [
    "#### Split data into train test \n",
    " We are spliting data into train and test with ratio 30%. Means 30% test and 70% train data"
   ]
  },
  {
   "cell_type": "code",
   "execution_count": 14,
   "metadata": {},
   "outputs": [],
   "source": [
    "X_train, X_test, y_train, y_test = train_test_split(X, y, test_size=0.30, random_state=SEED)"
   ]
  },
  {
   "cell_type": "markdown",
   "metadata": {},
   "source": [
    "#### Create a logistic regression classifier and fit the model and report accuracy"
   ]
  },
  {
   "cell_type": "code",
   "execution_count": 15,
   "metadata": {},
   "outputs": [
    {
     "name": "stdout",
     "output_type": "stream",
     "text": [
      "acc: 0.98249 precision: 0.0 recal: 0.0\n"
     ]
    }
   ],
   "source": [
    "lr = LogisticRegression()\n",
    "lr.fit(X_train, y_train)\n",
    "y_pred = lr.predict(X_test)\n",
    "\n",
    "accuracy = round(accuracy_score(y_test, y_pred),5)\n",
    "precision = round(precision_score(y_test, y_pred),5)\n",
    "recall = round(recall_score(y_test, y_pred),5)\n",
    "print('acc: {} precision: {} recal: {}'.format(accuracy, precision, recall))"
   ]
  },
  {
   "cell_type": "markdown",
   "metadata": {},
   "source": [
    "#### Cross validation\n"
   ]
  },
  {
   "cell_type": "markdown",
   "metadata": {},
   "source": [
    "\n",
    "To eliminate over-fitting, we can apply cross-validation. we are going to apply k-fold cross-validation.\n",
    "\n",
    "it will split the original data set into k subsets and use one of the subsets as the testing set and the remaining as the training sets. This process iterated k times until every subset have been used as the testing set. Since 10-fold cross-validation is the most popular one, we are going to use that one."
   ]
  },
  {
   "cell_type": "code",
   "execution_count": 17,
   "metadata": {},
   "outputs": [
    {
     "data": {
      "text/plain": [
       "Text(0.5, 1.0, 'Average score: 0.98292283829285')"
      ]
     },
     "execution_count": 17,
     "metadata": {},
     "output_type": "execute_result"
    },
    {
     "data": {
      "image/png": "[encoded data removed]",
      "text/plain": [
       "<Figure size 432x288 with 1 Axes>"
      ]
     },
     "metadata": {
      "needs_background": "light"
     },
     "output_type": "display_data"
    }
   ],
   "source": [
    "cv_scores = cross_val_score(lr, X_train, y_train, cv=10)\n",
    "sns.distplot(cv_scores)\n",
    "plt.title('Average score: {}'.format(np.mean(cv_scores)))"
   ]
  },
  {
   "cell_type": "markdown",
   "metadata": {},
   "source": [
    "It looks there is no improvement using cross-validation, as both accuracy score and cross validation look simillar! it seems like we are not suffering from overfit"
   ]
  },
  {
   "cell_type": "code",
   "execution_count": null,
   "metadata": {},
   "outputs": [],
   "source": []
  }
 ],
 "metadata": {
  "kernelspec": {
   "display_name": "p36workshop",
   "language": "python",
   "name": "p36workshop"
  },
  "language_info": {
   "codemirror_mode": {
    "name": "ipython",
    "version": 3
   },
   "file_extension": ".py",
   "mimetype": "text/x-python",
   "name": "python",
   "nbconvert_exporter": "python",
   "pygments_lexer": "ipython3",
   "version": "3.6.10"
  }
 },
 "nbformat": 4,
 "nbformat_minor": 2
}
