{
 "cells": [
  {
   "cell_type": "code",
   "execution_count": 1,
   "metadata": {},
   "outputs": [],
   "source": [
    "import numpy as np\n",
    "import pandas as pd\n",
    "import matplotlib.pyplot as plt\n",
    "from sklearn.preprocessing import StandardScaler\n",
    "from sklearn.model_selection  import train_test_split\n",
    "from sklearn.tree import DecisionTreeClassifier\n",
    "from sklearn.metrics import accuracy_score, precision_score, recall_score\n",
    "from sklearn.model_selection import cross_val_score\n",
    "import seaborn as sns\n",
    "sns.set(style=\"white\")\n",
    "sns.set(style=\"whitegrid\", color_codes=True)\n",
    "from sklearn.model_selection import GridSearchCV\n",
    "from sklearn.neighbors import KNeighborsClassifier\n",
    "from sklearn import metrics\n",
    "\n",
    "\n",
    "\n",
    "%matplotlib inline\n",
    "SEED = 42"
   ]
  },
  {
   "cell_type": "code",
   "execution_count": 2,
   "metadata": {
    "scrolled": true
   },
   "outputs": [
    {
     "data": {
      "text/html": [
       "<div>\n",
       "<style scoped>\n",
       "    .dataframe tbody tr th:only-of-type {\n",
       "        vertical-align: middle;\n",
       "    }\n",
       "\n",
       "    .dataframe tbody tr th {\n",
       "        vertical-align: top;\n",
       "    }\n",
       "\n",
       "    .dataframe thead th {\n",
       "        text-align: right;\n",
       "    }\n",
       "</style>\n",
       "<table border=\"1\" class=\"dataframe\">\n",
       "  <thead>\n",
       "    <tr style=\"text-align: right;\">\n",
       "      <th></th>\n",
       "      <th>accountNumber</th>\n",
       "      <th>acqCountry</th>\n",
       "      <th>availableMoney</th>\n",
       "      <th>cardCVV</th>\n",
       "      <th>cardLast4Digits</th>\n",
       "      <th>cardPresent</th>\n",
       "      <th>creditLimit</th>\n",
       "      <th>currentBalance</th>\n",
       "      <th>customerId</th>\n",
       "      <th>enteredCVV</th>\n",
       "      <th>...</th>\n",
       "      <th>transactionDateTime_day</th>\n",
       "      <th>transactionDateTime_hour</th>\n",
       "      <th>transactionDateTime_minute</th>\n",
       "      <th>transactionDateTime_second</th>\n",
       "      <th>currentExpDate_year</th>\n",
       "      <th>currentExpDate_month</th>\n",
       "      <th>currentExpDate_day</th>\n",
       "      <th>dateOfLastAddressChange_year</th>\n",
       "      <th>dateOfLastAddressChange_month</th>\n",
       "      <th>dateOfLastAddressChange_day</th>\n",
       "    </tr>\n",
       "  </thead>\n",
       "  <tbody>\n",
       "    <tr>\n",
       "      <th>0</th>\n",
       "      <td>733493772</td>\n",
       "      <td>3</td>\n",
       "      <td>5000.00</td>\n",
       "      <td>492</td>\n",
       "      <td>9184</td>\n",
       "      <td>0</td>\n",
       "      <td>5000.0</td>\n",
       "      <td>0.00</td>\n",
       "      <td>733493772</td>\n",
       "      <td>492</td>\n",
       "      <td>...</td>\n",
       "      <td>8</td>\n",
       "      <td>19</td>\n",
       "      <td>4</td>\n",
       "      <td>50</td>\n",
       "      <td>2020</td>\n",
       "      <td>4</td>\n",
       "      <td>1</td>\n",
       "      <td>2014</td>\n",
       "      <td>8</td>\n",
       "      <td>3</td>\n",
       "    </tr>\n",
       "    <tr>\n",
       "      <th>1</th>\n",
       "      <td>733493772</td>\n",
       "      <td>3</td>\n",
       "      <td>4888.67</td>\n",
       "      <td>492</td>\n",
       "      <td>9184</td>\n",
       "      <td>0</td>\n",
       "      <td>5000.0</td>\n",
       "      <td>111.33</td>\n",
       "      <td>733493772</td>\n",
       "      <td>492</td>\n",
       "      <td>...</td>\n",
       "      <td>9</td>\n",
       "      <td>22</td>\n",
       "      <td>32</td>\n",
       "      <td>39</td>\n",
       "      <td>2023</td>\n",
       "      <td>6</td>\n",
       "      <td>1</td>\n",
       "      <td>2014</td>\n",
       "      <td>8</td>\n",
       "      <td>3</td>\n",
       "    </tr>\n",
       "    <tr>\n",
       "      <th>2</th>\n",
       "      <td>733493772</td>\n",
       "      <td>3</td>\n",
       "      <td>4863.92</td>\n",
       "      <td>492</td>\n",
       "      <td>9184</td>\n",
       "      <td>0</td>\n",
       "      <td>5000.0</td>\n",
       "      <td>136.08</td>\n",
       "      <td>733493772</td>\n",
       "      <td>492</td>\n",
       "      <td>...</td>\n",
       "      <td>11</td>\n",
       "      <td>13</td>\n",
       "      <td>36</td>\n",
       "      <td>55</td>\n",
       "      <td>2027</td>\n",
       "      <td>12</td>\n",
       "      <td>1</td>\n",
       "      <td>2014</td>\n",
       "      <td>8</td>\n",
       "      <td>3</td>\n",
       "    </tr>\n",
       "    <tr>\n",
       "      <th>3</th>\n",
       "      <td>733493772</td>\n",
       "      <td>3</td>\n",
       "      <td>4676.52</td>\n",
       "      <td>492</td>\n",
       "      <td>9184</td>\n",
       "      <td>0</td>\n",
       "      <td>5000.0</td>\n",
       "      <td>323.48</td>\n",
       "      <td>733493772</td>\n",
       "      <td>492</td>\n",
       "      <td>...</td>\n",
       "      <td>11</td>\n",
       "      <td>22</td>\n",
       "      <td>47</td>\n",
       "      <td>46</td>\n",
       "      <td>2029</td>\n",
       "      <td>9</td>\n",
       "      <td>1</td>\n",
       "      <td>2014</td>\n",
       "      <td>8</td>\n",
       "      <td>3</td>\n",
       "    </tr>\n",
       "    <tr>\n",
       "      <th>4</th>\n",
       "      <td>733493772</td>\n",
       "      <td>3</td>\n",
       "      <td>4449.18</td>\n",
       "      <td>492</td>\n",
       "      <td>9184</td>\n",
       "      <td>0</td>\n",
       "      <td>5000.0</td>\n",
       "      <td>550.82</td>\n",
       "      <td>733493772</td>\n",
       "      <td>492</td>\n",
       "      <td>...</td>\n",
       "      <td>16</td>\n",
       "      <td>1</td>\n",
       "      <td>41</td>\n",
       "      <td>11</td>\n",
       "      <td>2024</td>\n",
       "      <td>10</td>\n",
       "      <td>1</td>\n",
       "      <td>2014</td>\n",
       "      <td>8</td>\n",
       "      <td>3</td>\n",
       "    </tr>\n",
       "  </tbody>\n",
       "</table>\n",
       "<p>5 rows × 34 columns</p>\n",
       "</div>"
      ],
      "text/plain": [
       "   accountNumber  acqCountry  availableMoney  cardCVV  cardLast4Digits  \\\n",
       "0      733493772           3         5000.00      492             9184   \n",
       "1      733493772           3         4888.67      492             9184   \n",
       "2      733493772           3         4863.92      492             9184   \n",
       "3      733493772           3         4676.52      492             9184   \n",
       "4      733493772           3         4449.18      492             9184   \n",
       "\n",
       "   cardPresent  creditLimit  currentBalance  customerId  enteredCVV  ...  \\\n",
       "0            0       5000.0            0.00   733493772         492  ...   \n",
       "1            0       5000.0          111.33   733493772         492  ...   \n",
       "2            0       5000.0          136.08   733493772         492  ...   \n",
       "3            0       5000.0          323.48   733493772         492  ...   \n",
       "4            0       5000.0          550.82   733493772         492  ...   \n",
       "\n",
       "   transactionDateTime_day  transactionDateTime_hour  \\\n",
       "0                        8                        19   \n",
       "1                        9                        22   \n",
       "2                       11                        13   \n",
       "3                       11                        22   \n",
       "4                       16                         1   \n",
       "\n",
       "   transactionDateTime_minute  transactionDateTime_second  \\\n",
       "0                           4                          50   \n",
       "1                          32                          39   \n",
       "2                          36                          55   \n",
       "3                          47                          46   \n",
       "4                          41                          11   \n",
       "\n",
       "   currentExpDate_year  currentExpDate_month  currentExpDate_day  \\\n",
       "0                 2020                     4                   1   \n",
       "1                 2023                     6                   1   \n",
       "2                 2027                    12                   1   \n",
       "3                 2029                     9                   1   \n",
       "4                 2024                    10                   1   \n",
       "\n",
       "   dateOfLastAddressChange_year  dateOfLastAddressChange_month  \\\n",
       "0                          2014                              8   \n",
       "1                          2014                              8   \n",
       "2                          2014                              8   \n",
       "3                          2014                              8   \n",
       "4                          2014                              8   \n",
       "\n",
       "   dateOfLastAddressChange_day  \n",
       "0                            3  \n",
       "1                            3  \n",
       "2                            3  \n",
       "3                            3  \n",
       "4                            3  \n",
       "\n",
       "[5 rows x 34 columns]"
      ]
     },
     "execution_count": 2,
     "metadata": {},
     "output_type": "execute_result"
    }
   ],
   "source": [
    "\n",
    "df = pd.read_csv('processed_transaction.csv')\n",
    "df.head()"
   ]
  },
  {
   "cell_type": "code",
   "execution_count": 3,
   "metadata": {
    "scrolled": false
   },
   "outputs": [
    {
     "data": {
      "text/plain": [
       "Index(['accountNumber', 'acqCountry', 'availableMoney', 'cardCVV',\n",
       "       'cardLast4Digits', 'cardPresent', 'creditLimit', 'currentBalance',\n",
       "       'customerId', 'enteredCVV', 'expirationDateKeyInMatch', 'isFraud',\n",
       "       'merchantCategoryCode', 'merchantCountryCode', 'merchantName',\n",
       "       'posConditionCode', 'posEntryMode', 'transactionAmount',\n",
       "       'transactionType', 'accountOpenDate_year', 'accountOpenDate_month',\n",
       "       'accountOpenDate_day', 'transactionDateTime_year',\n",
       "       'transactionDateTime_month', 'transactionDateTime_day',\n",
       "       'transactionDateTime_hour', 'transactionDateTime_minute',\n",
       "       'transactionDateTime_second', 'currentExpDate_year',\n",
       "       'currentExpDate_month', 'currentExpDate_day',\n",
       "       'dateOfLastAddressChange_year', 'dateOfLastAddressChange_month',\n",
       "       'dateOfLastAddressChange_day'],\n",
       "      dtype='object')"
      ]
     },
     "execution_count": 3,
     "metadata": {},
     "output_type": "execute_result"
    }
   ],
   "source": [
    "df.columns"
   ]
  },
  {
   "cell_type": "code",
   "execution_count": 3,
   "metadata": {
    "scrolled": true
   },
   "outputs": [
    {
     "name": "stderr",
     "output_type": "stream",
     "text": [
      "/anaconda3/lib/python3.7/site-packages/sklearn/preprocessing/data.py:645: DataConversionWarning: Data with input dtype int64, float64 were all converted to float64 by StandardScaler.\n",
      "  return self.partial_fit(X, y)\n",
      "/anaconda3/lib/python3.7/site-packages/sklearn/base.py:464: DataConversionWarning: Data with input dtype int64, float64 were all converted to float64 by StandardScaler.\n",
      "  return self.fit(X, **fit_params).transform(X)\n"
     ]
    }
   ],
   "source": [
    "X, y = df.drop(['isFraud'],axis=1), df['isFraud']\n",
    "# scale the features by standard scaler\n",
    "standard_scaler = StandardScaler()\n",
    "X = standard_scaler.fit_transform(X)"
   ]
  },
  {
   "cell_type": "code",
   "execution_count": 5,
   "metadata": {},
   "outputs": [
    {
     "data": {
      "image/png": "[encoded data removed]",
      "text/plain": [
       "<Figure size 432x288 with 1 Axes>"
      ]
     },
     "metadata": {
      "needs_background": "light"
     },
     "output_type": "display_data"
    },
    {
     "data": {
      "text/plain": [
       "0    622954\n",
       "1     10892\n",
       "Name: isFraud, dtype: int64"
      ]
     },
     "execution_count": 5,
     "metadata": {},
     "output_type": "execute_result"
    }
   ],
   "source": [
    "sns.countplot(x='isFraud', data=df, palette='hls')\n",
    "plt.show()\n",
    "df['isFraud'].value_counts()"
   ]
  },
  {
   "cell_type": "code",
   "execution_count": 6,
   "metadata": {
    "scrolled": true
   },
   "outputs": [
    {
     "data": {
      "text/plain": [
       "array([<matplotlib.axes._subplots.AxesSubplot object at 0x1a2502dac8>,\n",
       "       <matplotlib.axes._subplots.AxesSubplot object at 0x1a25c5ea90>],\n",
       "      dtype=object)"
      ]
     },
     "execution_count": 6,
     "metadata": {},
     "output_type": "execute_result"
    },
    {
     "data": {
      "image/png": "[encoded data removed]",
      "text/plain": [
       "<Figure size 432x288 with 2 Axes>"
      ]
     },
     "metadata": {
      "needs_background": "light"
     },
     "output_type": "display_data"
    }
   ],
   "source": [
    "df['transactionAmount'].hist(by=df['isFraud'])"
   ]
  },
  {
   "cell_type": "markdown",
   "metadata": {},
   "source": [
    "As we can see in the plot, most of the fraud transactions happen in low amount. it means there is not very high amount of fraud transactions. it's usaually because The bank would block these kind of high transactions easily for safety. so, it makes sense that the fraud transactions happen consistently in low prices. "
   ]
  },
  {
   "cell_type": "code",
   "execution_count": 6,
   "metadata": {},
   "outputs": [],
   "source": [
    "X_train, X_test, y_train, y_test = train_test_split(X, y, test_size=0.30, random_state=SEED)"
   ]
  },
  {
   "cell_type": "code",
   "execution_count": null,
   "metadata": {},
   "outputs": [],
   "source": []
  },
  {
   "cell_type": "code",
   "execution_count": null,
   "metadata": {},
   "outputs": [],
   "source": []
  },
  {
   "cell_type": "code",
   "execution_count": null,
   "metadata": {},
   "outputs": [],
   "source": []
  }
 ],
 "metadata": {
  "kernelspec": {
   "display_name": "Python 3",
   "language": "python",
   "name": "python3"
  },
  "language_info": {
   "codemirror_mode": {
    "name": "ipython",
    "version": 3
   },
   "file_extension": ".py",
   "mimetype": "text/x-python",
   "name": "python",
   "nbconvert_exporter": "python",
   "pygments_lexer": "ipython3",
   "version": "3.7.3"
  }
 },
 "nbformat": 4,
 "nbformat_minor": 2
}
