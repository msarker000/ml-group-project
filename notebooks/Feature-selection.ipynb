{
 "cells": [
  {
   "cell_type": "markdown",
   "metadata": {
    "colab_type": "text",
    "id": "WBifoqdES7gf"
   },
   "source": [
    "#### This notebook is to find which feature are important"
   ]
  },
  {
   "cell_type": "code",
   "execution_count": 1,
   "metadata": {
    "colab": {},
    "colab_type": "code",
    "id": "XX6ElKZPS7gg"
   },
   "outputs": [],
   "source": [
    "import numpy as np\n",
    "import pandas as pd\n",
    "import matplotlib.pyplot as plt\n",
    "from sklearn.datasets import make_classification\n",
    "from sklearn.ensemble import RandomForestClassifier\n",
    "from sklearn.model_selection import train_test_split\n",
    "from sklearn.metrics import accuracy_score, precision_score, recall_score\n",
    "%matplotlib inline  "
   ]
  },
  {
   "cell_type": "code",
   "execution_count": 3,
   "metadata": {
    "colab": {
     "base_uri": "https://localhost:8080/",
     "height": 224
    },
    "colab_type": "code",
    "id": "UCw-hd14S7gk",
    "outputId": "4df7be1b-4bd0-49d2-814e-ad0c8b1cd2bb"
   },
   "outputs": [
    {
     "data": {
      "text/html": [
       "<div>\n",
       "<style scoped>\n",
       "    .dataframe tbody tr th:only-of-type {\n",
       "        vertical-align: middle;\n",
       "    }\n",
       "\n",
       "    .dataframe tbody tr th {\n",
       "        vertical-align: top;\n",
       "    }\n",
       "\n",
       "    .dataframe thead th {\n",
       "        text-align: right;\n",
       "    }\n",
       "</style>\n",
       "<table border=\"1\" class=\"dataframe\">\n",
       "  <thead>\n",
       "    <tr style=\"text-align: right;\">\n",
       "      <th></th>\n",
       "      <th>accountNumber</th>\n",
       "      <th>acqCountry</th>\n",
       "      <th>availableMoney</th>\n",
       "      <th>cardCVV</th>\n",
       "      <th>cardLast4Digits</th>\n",
       "      <th>cardPresent</th>\n",
       "      <th>creditLimit</th>\n",
       "      <th>currentBalance</th>\n",
       "      <th>customerId</th>\n",
       "      <th>enteredCVV</th>\n",
       "      <th>...</th>\n",
       "      <th>transactionDateTime_day</th>\n",
       "      <th>transactionDateTime_hour</th>\n",
       "      <th>transactionDateTime_minute</th>\n",
       "      <th>transactionDateTime_second</th>\n",
       "      <th>currentExpDate_year</th>\n",
       "      <th>currentExpDate_month</th>\n",
       "      <th>currentExpDate_day</th>\n",
       "      <th>dateOfLastAddressChange_year</th>\n",
       "      <th>dateOfLastAddressChange_month</th>\n",
       "      <th>dateOfLastAddressChange_day</th>\n",
       "    </tr>\n",
       "  </thead>\n",
       "  <tbody>\n",
       "    <tr>\n",
       "      <th>0</th>\n",
       "      <td>173544488</td>\n",
       "      <td>3</td>\n",
       "      <td>3060.76</td>\n",
       "      <td>711</td>\n",
       "      <td>460</td>\n",
       "      <td>1</td>\n",
       "      <td>7500.0</td>\n",
       "      <td>4439.24</td>\n",
       "      <td>173544488</td>\n",
       "      <td>711</td>\n",
       "      <td>...</td>\n",
       "      <td>30</td>\n",
       "      <td>22</td>\n",
       "      <td>45</td>\n",
       "      <td>7</td>\n",
       "      <td>2019</td>\n",
       "      <td>9</td>\n",
       "      <td>1</td>\n",
       "      <td>2014</td>\n",
       "      <td>4</td>\n",
       "      <td>12</td>\n",
       "    </tr>\n",
       "    <tr>\n",
       "      <th>1</th>\n",
       "      <td>109517864</td>\n",
       "      <td>3</td>\n",
       "      <td>250.00</td>\n",
       "      <td>912</td>\n",
       "      <td>4842</td>\n",
       "      <td>1</td>\n",
       "      <td>250.0</td>\n",
       "      <td>0.00</td>\n",
       "      <td>109517864</td>\n",
       "      <td>912</td>\n",
       "      <td>...</td>\n",
       "      <td>28</td>\n",
       "      <td>2</td>\n",
       "      <td>14</td>\n",
       "      <td>48</td>\n",
       "      <td>2024</td>\n",
       "      <td>3</td>\n",
       "      <td>1</td>\n",
       "      <td>2014</td>\n",
       "      <td>11</td>\n",
       "      <td>7</td>\n",
       "    </tr>\n",
       "    <tr>\n",
       "      <th>2</th>\n",
       "      <td>937106980</td>\n",
       "      <td>3</td>\n",
       "      <td>8272.83</td>\n",
       "      <td>312</td>\n",
       "      <td>92</td>\n",
       "      <td>1</td>\n",
       "      <td>15000.0</td>\n",
       "      <td>6727.17</td>\n",
       "      <td>937106980</td>\n",
       "      <td>312</td>\n",
       "      <td>...</td>\n",
       "      <td>9</td>\n",
       "      <td>12</td>\n",
       "      <td>0</td>\n",
       "      <td>17</td>\n",
       "      <td>2022</td>\n",
       "      <td>4</td>\n",
       "      <td>1</td>\n",
       "      <td>2016</td>\n",
       "      <td>9</td>\n",
       "      <td>16</td>\n",
       "    </tr>\n",
       "    <tr>\n",
       "      <th>3</th>\n",
       "      <td>942524230</td>\n",
       "      <td>3</td>\n",
       "      <td>5289.40</td>\n",
       "      <td>379</td>\n",
       "      <td>1683</td>\n",
       "      <td>1</td>\n",
       "      <td>7500.0</td>\n",
       "      <td>2210.60</td>\n",
       "      <td>942524230</td>\n",
       "      <td>379</td>\n",
       "      <td>...</td>\n",
       "      <td>8</td>\n",
       "      <td>4</td>\n",
       "      <td>17</td>\n",
       "      <td>52</td>\n",
       "      <td>2028</td>\n",
       "      <td>11</td>\n",
       "      <td>1</td>\n",
       "      <td>2008</td>\n",
       "      <td>11</td>\n",
       "      <td>16</td>\n",
       "    </tr>\n",
       "    <tr>\n",
       "      <th>4</th>\n",
       "      <td>899404344</td>\n",
       "      <td>3</td>\n",
       "      <td>3942.77</td>\n",
       "      <td>279</td>\n",
       "      <td>8069</td>\n",
       "      <td>1</td>\n",
       "      <td>5000.0</td>\n",
       "      <td>1057.23</td>\n",
       "      <td>899404344</td>\n",
       "      <td>279</td>\n",
       "      <td>...</td>\n",
       "      <td>9</td>\n",
       "      <td>11</td>\n",
       "      <td>35</td>\n",
       "      <td>49</td>\n",
       "      <td>2019</td>\n",
       "      <td>5</td>\n",
       "      <td>1</td>\n",
       "      <td>2012</td>\n",
       "      <td>3</td>\n",
       "      <td>22</td>\n",
       "    </tr>\n",
       "  </tbody>\n",
       "</table>\n",
       "<p>5 rows × 34 columns</p>\n",
       "</div>"
      ],
      "text/plain": [
       "   accountNumber  acqCountry  availableMoney  cardCVV  cardLast4Digits  \\\n",
       "0      173544488           3         3060.76      711              460   \n",
       "1      109517864           3          250.00      912             4842   \n",
       "2      937106980           3         8272.83      312               92   \n",
       "3      942524230           3         5289.40      379             1683   \n",
       "4      899404344           3         3942.77      279             8069   \n",
       "\n",
       "   cardPresent  creditLimit  currentBalance  customerId  enteredCVV  \\\n",
       "0            1       7500.0         4439.24   173544488         711   \n",
       "1            1        250.0            0.00   109517864         912   \n",
       "2            1      15000.0         6727.17   937106980         312   \n",
       "3            1       7500.0         2210.60   942524230         379   \n",
       "4            1       5000.0         1057.23   899404344         279   \n",
       "\n",
       "              ...               transactionDateTime_day  \\\n",
       "0             ...                                    30   \n",
       "1             ...                                    28   \n",
       "2             ...                                     9   \n",
       "3             ...                                     8   \n",
       "4             ...                                     9   \n",
       "\n",
       "   transactionDateTime_hour  transactionDateTime_minute  \\\n",
       "0                        22                          45   \n",
       "1                         2                          14   \n",
       "2                        12                           0   \n",
       "3                         4                          17   \n",
       "4                        11                          35   \n",
       "\n",
       "   transactionDateTime_second  currentExpDate_year  currentExpDate_month  \\\n",
       "0                           7                 2019                     9   \n",
       "1                          48                 2024                     3   \n",
       "2                          17                 2022                     4   \n",
       "3                          52                 2028                    11   \n",
       "4                          49                 2019                     5   \n",
       "\n",
       "   currentExpDate_day  dateOfLastAddressChange_year  \\\n",
       "0                   1                          2014   \n",
       "1                   1                          2014   \n",
       "2                   1                          2016   \n",
       "3                   1                          2008   \n",
       "4                   1                          2012   \n",
       "\n",
       "   dateOfLastAddressChange_month  dateOfLastAddressChange_day  \n",
       "0                              4                           12  \n",
       "1                             11                            7  \n",
       "2                              9                           16  \n",
       "3                             11                           16  \n",
       "4                              3                           22  \n",
       "\n",
       "[5 rows x 34 columns]"
      ]
     },
     "execution_count": 3,
     "metadata": {},
     "output_type": "execute_result"
    }
   ],
   "source": [
    "df = pd.read_csv('../data/processed_balanced_transaction.csv')\n",
    "df.head()"
   ]
  },
  {
   "cell_type": "code",
   "execution_count": 4,
   "metadata": {
    "colab": {},
    "colab_type": "code",
    "id": "mevv0u2XS7go"
   },
   "outputs": [],
   "source": [
    "X, y = df.drop(['isFraud'],axis=1), df['isFraud']\n",
    "# Split the data into 30% test and 70% training\n",
    "X_train, X_test, y_train, y_test = train_test_split(X, y, test_size=0.3, random_state=42)"
   ]
  },
  {
   "cell_type": "code",
   "execution_count": 5,
   "metadata": {
    "colab": {
     "base_uri": "https://localhost:8080/",
     "height": 595
    },
    "colab_type": "code",
    "id": "U2vsrjYRS7gr",
    "outputId": "5c3aca22-151d-4c1b-ac31-beb123c5ed77"
   },
   "outputs": [
    {
     "name": "stdout",
     "output_type": "stream",
     "text": [
      "Feature ranking:\n",
      "1. feature transactionAmount (0.434877)\n",
      "2. feature posEntryMode (0.205655)\n",
      "3. feature merchantName (0.043623)\n",
      "4. feature merchantCategoryCode (0.038286)\n",
      "5. feature accountNumber (0.031039)\n",
      "6. feature customerId (0.027756)\n",
      "7. feature enteredCVV (0.025247)\n",
      "8. feature cardCVV (0.024014)\n",
      "9. feature transactionType (0.017109)\n",
      "10. feature cardLast4Digits (0.016745)\n",
      "11. feature currentBalance (0.016098)\n",
      "12. feature accountOpenDate_day (0.014362)\n",
      "13. feature availableMoney (0.011268)\n",
      "14. feature cardPresent (0.010877)\n",
      "15. feature posConditionCode (0.010630)\n",
      "16. feature creditLimit (0.010045)\n",
      "17. feature dateOfLastAddressChange_year (0.008549)\n",
      "18. feature dateOfLastAddressChange_day (0.008455)\n",
      "19. feature accountOpenDate_month (0.007664)\n",
      "20. feature dateOfLastAddressChange_month (0.005952)\n",
      "21. feature accountOpenDate_year (0.005534)\n",
      "22. feature transactionDateTime_minute (0.004388)\n",
      "23. feature transactionDateTime_day (0.004251)\n",
      "24. feature transactionDateTime_second (0.004247)\n",
      "25. feature transactionDateTime_month (0.004058)\n",
      "26. feature currentExpDate_year (0.003223)\n",
      "27. feature transactionDateTime_hour (0.002697)\n",
      "28. feature currentExpDate_month (0.002574)\n",
      "29. feature merchantCountryCode (0.000488)\n",
      "30. feature acqCountry (0.000267)\n",
      "31. feature expirationDateKeyInMatch (0.000023)\n",
      "32. feature transactionDateTime_year (0.000000)\n",
      "33. feature currentExpDate_day (0.000000)\n"
     ]
    }
   ],
   "source": [
    "# Build a forest and compute the feature importances\n",
    "forest = RandomForestClassifier(n_estimators=500, max_depth=5, random_state=42, n_jobs=-1)\n",
    "\n",
    "forest.fit(X_train, y_train)\n",
    "importances = forest.feature_importances_\n",
    "std = np.std([tree.feature_importances_ for tree in forest.estimators_],\n",
    "             axis=0)\n",
    "indices = np.argsort(importances)[::-1]\n",
    "\n",
    "# Print the feature ranking\n",
    "print(\"Feature ranking:\")\n",
    "\n",
    "for f in range(X.shape[1]):\n",
    "    print(\"%d. feature %s (%f)\" % (f + 1, X.columns[indices[f]], importances[indices[f]]))"
   ]
  },
  {
   "cell_type": "code",
   "execution_count": 6,
   "metadata": {
    "colab": {
     "base_uri": "https://localhost:8080/",
     "height": 564
    },
    "colab_type": "code",
    "id": "WXD5VtIFS7gu",
    "outputId": "9a4184a3-7ecb-4da9-96c1-dfbf72230562"
   },
   "outputs": [
    {
     "data": {
      "image/png": "[encoded data removed]",
      "text/plain": [
       "<Figure size 1008x432 with 1 Axes>"
      ]
     },
     "metadata": {},
     "output_type": "display_data"
    }
   ],
   "source": [
    "# Plot the feature importances of the forest\n",
    "columns_sorted_by_importance = [X.columns[f] for f in indices]\n",
    "plt.figure(figsize=(14,6))\n",
    "plt.title(\"Feature importances\")\n",
    "plt.bar(range(X.shape[1]), importances[indices],\n",
    "       color=\"r\", yerr=std[indices], align=\"center\")\n",
    "plt.xticks(range(X.shape[1]), columns_sorted_by_importance, rotation=90)\n",
    "plt.xlabel('Features')\n",
    "plt.ylabel('Importance')\n",
    "plt.xlim([-1, X.shape[1]])\n",
    "plt.show()"
   ]
  },
  {
   "cell_type": "markdown",
   "metadata": {
    "colab_type": "text",
    "id": "0XAkhq6CS7gx"
   },
   "source": [
    "#### The Accuracy Of Our Full Feature Classifier"
   ]
  },
  {
   "cell_type": "code",
   "execution_count": 7,
   "metadata": {
    "colab": {
     "base_uri": "https://localhost:8080/",
     "height": 34
    },
    "colab_type": "code",
    "id": "2Ymgp2veS7gy",
    "outputId": "7b67a0b3-e968-4e9c-9560-e950a7fd3f2f"
   },
   "outputs": [
    {
     "name": "stdout",
     "output_type": "stream",
     "text": [
      "Accuracy for full dataset: 0.68\n"
     ]
    }
   ],
   "source": [
    "# Apply The Full Featured Classifier To The Test Data\n",
    "y_pred = forest.predict(X_test)\n",
    "\n",
    "# View The Accuracy Of Our Full Feature (4 Features) Model\n",
    "score = accuracy_score(y_test, y_pred)\n",
    "print('Accuracy for full dataset: %.2f'%(score))"
   ]
  },
  {
   "cell_type": "markdown",
   "metadata": {
    "colab_type": "text",
    "id": "8ItzlP4zsKY5"
   },
   "source": [
    "**Lets feed the model with 6 different sets of important features [5, 10, 15, 15, 20, 25, 30] and record accuracy, precision and reacal.**"
   ]
  },
  {
   "cell_type": "code",
   "execution_count": 8,
   "metadata": {
    "colab": {},
    "colab_type": "code",
    "id": "tCuHJALuS7g2"
   },
   "outputs": [],
   "source": [
    "feature_count = [5, 10, 15, 20, 25, 30]\n",
    "accuracy_scores = []\n",
    "precision_scores = []\n",
    "recall_scores = []\n",
    "\n",
    "columns_sorted_by_importance = [X.columns[f] for f in indices]\n",
    "for c in feature_count:\n",
    "    X_train_important =   X_train[columns_sorted_by_importance[:c]]\n",
    "    X_test_important =   X_test[columns_sorted_by_importance[:c]]\n",
    "    forest_important = RandomForestClassifier(n_estimators=500, max_depth=5, random_state=42, n_jobs=-1)\n",
    "    forest_important.fit(X_train_important, y_train)\n",
    "    y_pred = forest_important.predict(X_test_important)\n",
    "    accuracy_sc = round(accuracy_score(y_test, y_pred), 2)\n",
    "    precision_sc = round(precision_score(y_test, y_pred), 2)\n",
    "    recall_sc = round(recall_score(y_test, y_pred), 2)\n",
    "    accuracy_scores.append(accuracy_sc)\n",
    "    precision_scores.append(precision_sc)\n",
    "    recall_scores.append(recall_sc)\n"
   ]
  },
  {
   "cell_type": "markdown",
   "metadata": {
    "colab_type": "text",
    "id": "2PGgaskqsy3P"
   },
   "source": [
    "Let plot accuracy, precision and recall for 6 sets of feature."
   ]
  },
  {
   "cell_type": "code",
   "execution_count": 9,
   "metadata": {
    "colab": {
     "base_uri": "https://localhost:8080/",
     "height": 288
    },
    "colab_type": "code",
    "id": "2CLsW4tgEeAv",
    "outputId": "6fa51624-b8df-4eb2-cc2d-5e03a66bbcc8"
   },
   "outputs": [
    {
     "data": {
      "image/png": "[encoded data removed]",
      "text/plain": [
       "<Figure size 432x288 with 1 Axes>"
      ]
     },
     "metadata": {},
     "output_type": "display_data"
    }
   ],
   "source": [
    "import matplotlib.pyplot as plt\n",
    "%matplotlib inline\n",
    "\n",
    "plt.plot(feature_count, accuracy_scores)\n",
    "plt.plot(feature_count, precision_scores)\n",
    "plt.plot(feature_count, recall_scores)\n",
    "plt.margins(0.3)\n",
    "plt.subplots_adjust(bottom=0.15)\n",
    "\n",
    "plt.title('Accuracy, Precision, Recall Vs Feature count')\n",
    "plt.ylabel('Accuracy')\n",
    "plt.xlabel('Number of features')\n",
    "plt.legend(['accuracy', 'precision', 'recall'], loc='upper left')\n",
    "plt.show()"
   ]
  },
  {
   "cell_type": "markdown",
   "metadata": {
    "colab_type": "text",
    "id": "uLnAG7XLrcdg"
   },
   "source": [
    "So we see that  accuracy, precision and recall for each 6 sets are almost same. but the set with 20 most important features has highest accuracy. So we will take 20 most important features in feed our model.\n"
   ]
  },
  {
   "cell_type": "code",
   "execution_count": 10,
   "metadata": {
    "colab": {
     "base_uri": "https://localhost:8080/",
     "height": 68
    },
    "colab_type": "code",
    "id": "5D4x46SXuD5y",
    "outputId": "b4093bc4-2190-47ed-880c-29232e10a174"
   },
   "outputs": [
    {
     "name": "stdout",
     "output_type": "stream",
     "text": [
      "accuracy_scores:[0.68, 0.69, 0.68, 0.69, 0.68, 0.68]\n",
      "precision_scores:[0.68, 0.68, 0.67, 0.68, 0.67, 0.67]\n",
      "recall_scores:[0.69, 0.7, 0.72, 0.71, 0.72, 0.73]\n"
     ]
    }
   ],
   "source": [
    "print('accuracy_scores:'+str(accuracy_scores))\n",
    "print('precision_scores:'+str(precision_scores))\n",
    "print('recall_scores:'+str(recall_scores))"
   ]
  },
  {
   "cell_type": "markdown",
   "metadata": {
    "colab_type": "text",
    "id": "oreTReB6S7g1"
   },
   "source": [
    "### Important features \n",
    "\n",
    "So The followings are the high importance 20 features we will work on our rest of the project\n",
    "\n",
    "- transactionAmount (0.461284)\n",
    "- posEntryMode (0.238895)\n",
    "- merchantName (0.052225)\n",
    "- merchantCategoryCode (0.042508)\n",
    "- accountNumber (0.024675)\n",
    "- customerId (0.022490)\n",
    "- transactionType (0.021297)\n",
    "- enteredCVV (0.018811)\n",
    "- cardCVV (0.017843)\n",
    "- cardPresent (0.016107)\n",
    "- currentBalance (0.012183)\n",
    "- accountOpenDate_day (0.011294)\n",
    "- cardLast4Digits (0.010590)\n",
    "- dateOfLastAddressChange_year (0.007816)\n",
    "- dateOfLastAddressChange_day (0.007122)\n",
    "- creditLimit (0.006090)\n",
    "- accountOpenDate_month (0.005907)\n",
    "- posConditionCode (0.005774)\n",
    "- accountOpenDate_year (0.003972)\n",
    "- availableMoney (0.003922)"
   ]
  },
  {
   "cell_type": "code",
   "execution_count": 12,
   "metadata": {
    "colab": {},
    "colab_type": "code",
    "id": "WyF_lNwDS7g9"
   },
   "outputs": [],
   "source": [
    "# let write this importance to csv. so that we can use later.\n",
    "\n",
    "import csv\n",
    "columns_importance = [(X.columns[f], importances[f]) for f in indices]\n",
    "with open('../data/feature_importance.csv', 'w', newline='') as file:\n",
    "    writer = csv.writer(file)\n",
    "    for row in columns_importance:\n",
    "        writer.writerow(row)"
   ]
  },
  {
   "cell_type": "code",
   "execution_count": 13,
   "metadata": {
    "colab": {
     "base_uri": "https://localhost:8080/",
     "height": 357
    },
    "colab_type": "code",
    "id": "pCS-sibwTOiw",
    "outputId": "df2332e9-6cde-48e0-a0ff-663d343c23cd"
   },
   "outputs": [
    {
     "data": {
      "text/plain": [
       "['transactionAmount',\n",
       " 'posEntryMode',\n",
       " 'merchantName',\n",
       " 'merchantCategoryCode',\n",
       " 'accountNumber',\n",
       " 'customerId',\n",
       " 'enteredCVV',\n",
       " 'cardCVV',\n",
       " 'transactionType',\n",
       " 'cardLast4Digits',\n",
       " 'currentBalance',\n",
       " 'accountOpenDate_day',\n",
       " 'availableMoney',\n",
       " 'cardPresent',\n",
       " 'posConditionCode',\n",
       " 'creditLimit',\n",
       " 'dateOfLastAddressChange_year',\n",
       " 'dateOfLastAddressChange_day',\n",
       " 'accountOpenDate_month',\n",
       " 'dateOfLastAddressChange_month']"
      ]
     },
     "execution_count": 13,
     "metadata": {},
     "output_type": "execute_result"
    }
   ],
   "source": [
    "columns_sorted_by_importance[:20]"
   ]
  },
  {
   "cell_type": "markdown",
   "metadata": {
    "colab_type": "text",
    "id": "vLoz8qX0S7hA"
   },
   "source": [
    "Refernce code from \n",
    "\n",
    "- https://scikit-learn.org/stable/auto_examples/ensemble/plot_forest_importances.html\n",
    "- https://chrisalbon.com/machine_learning/trees_and_forests/feature_selection_using_random_forest/"
   ]
  },
  {
   "cell_type": "code",
   "execution_count": null,
   "metadata": {},
   "outputs": [],
   "source": []
  }
 ],
 "metadata": {
  "colab": {
   "name": "Feature-selection.ipynb",
   "provenance": []
  },
  "kernelspec": {
   "display_name": "Python 3",
   "language": "python",
   "name": "python3"
  },
  "language_info": {
   "codemirror_mode": {
    "name": "ipython",
    "version": 3
   },
   "file_extension": ".py",
   "mimetype": "text/x-python",
   "name": "python",
   "nbconvert_exporter": "python",
   "pygments_lexer": "ipython3",
   "version": "3.6.5"
  }
 },
 "nbformat": 4,
 "nbformat_minor": 1
}
