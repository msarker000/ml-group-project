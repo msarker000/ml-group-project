{
  "nbformat": 4,
  "nbformat_minor": 0,
  "metadata": {
    "kernelspec": {
      "display_name": "Python 3",
      "language": "python",
      "name": "python3"
    },
    "language_info": {
      "codemirror_mode": {
        "name": "ipython",
        "version": 3
      },
      "file_extension": ".py",
      "mimetype": "text/x-python",
      "name": "python",
      "nbconvert_exporter": "python",
      "pygments_lexer": "ipython3",
      "version": "3.6.5"
    },
    "colab": {
      "name": "Feature-selection.ipynb",
      "provenance": []
    }
  },
  "cells": [
    {
      "cell_type": "markdown",
      "metadata": {
        "id": "WBifoqdES7gf",
        "colab_type": "text"
      },
      "source": [
        "#### This notebook is to find which feature are important"
      ]
    },
    {
      "cell_type": "code",
      "metadata": {
        "id": "XX6ElKZPS7gg",
        "colab_type": "code",
        "colab": {}
      },
      "source": [
        "import numpy as np\n",
        "import pandas as pd\n",
        "import matplotlib.pyplot as plt\n",
        "from sklearn.datasets import make_classification\n",
        "from sklearn.ensemble import RandomForestClassifier\n",
        "from sklearn.model_selection import train_test_split\n",
        "from sklearn.metrics import accuracy_score, precision_score, recall_score\n",
        "%matplotlib inline  "
      ],
      "execution_count": 0,
      "outputs": []
    },
    {
      "cell_type": "code",
      "metadata": {
        "id": "lXkUM7FQTr0a",
        "colab_type": "code",
        "colab": {
          "base_uri": "https://localhost:8080/",
          "height": 122
        },
        "outputId": "032c0230-9585-49eb-cd37-bc632c9ad074"
      },
      "source": [
        "#ml-project-datasets\n",
        "from google.colab import drive\n",
        "drive.mount('/content/drive')"
      ],
      "execution_count": 3,
      "outputs": [
        {
          "output_type": "stream",
          "text": [
            "Go to this URL in a browser: https://accounts.google.com/o/oauth2/auth?client_id=947318989803-6bn6qk8qdgf4n4g3pfee6491hc0brc4i.apps.googleusercontent.com&redirect_uri=urn%3aietf%3awg%3aoauth%3a2.0%3aoob&response_type=code&scope=email%20https%3a%2f%2fwww.googleapis.com%2fauth%2fdocs.test%20https%3a%2f%2fwww.googleapis.com%2fauth%2fdrive%20https%3a%2f%2fwww.googleapis.com%2fauth%2fdrive.photos.readonly%20https%3a%2f%2fwww.googleapis.com%2fauth%2fpeopleapi.readonly\n",
            "\n",
            "Enter your authorization code:\n",
            "··········\n",
            "Mounted at /content/drive\n"
          ],
          "name": "stdout"
        }
      ]
    },
    {
      "cell_type": "code",
      "metadata": {
        "id": "UCw-hd14S7gk",
        "colab_type": "code",
        "colab": {
          "base_uri": "https://localhost:8080/",
          "height": 224
        },
        "outputId": "4df7be1b-4bd0-49d2-814e-ad0c8b1cd2bb"
      },
      "source": [
        "df = pd.read_csv('/content/drive/My Drive/ml-project-datasets/data/processed_balanced_transaction.csv')\n",
        "df.head()"
      ],
      "execution_count": 4,
      "outputs": [
        {
          "output_type": "execute_result",
          "data": {
            "text/html": [
              "<div>\n",
              "<style scoped>\n",
              "    .dataframe tbody tr th:only-of-type {\n",
              "        vertical-align: middle;\n",
              "    }\n",
              "\n",
              "    .dataframe tbody tr th {\n",
              "        vertical-align: top;\n",
              "    }\n",
              "\n",
              "    .dataframe thead th {\n",
              "        text-align: right;\n",
              "    }\n",
              "</style>\n",
              "<table border=\"1\" class=\"dataframe\">\n",
              "  <thead>\n",
              "    <tr style=\"text-align: right;\">\n",
              "      <th></th>\n",
              "      <th>accountNumber</th>\n",
              "      <th>acqCountry</th>\n",
              "      <th>availableMoney</th>\n",
              "      <th>cardCVV</th>\n",
              "      <th>cardLast4Digits</th>\n",
              "      <th>cardPresent</th>\n",
              "      <th>creditLimit</th>\n",
              "      <th>currentBalance</th>\n",
              "      <th>customerId</th>\n",
              "      <th>enteredCVV</th>\n",
              "      <th>expirationDateKeyInMatch</th>\n",
              "      <th>isFraud</th>\n",
              "      <th>merchantCategoryCode</th>\n",
              "      <th>merchantCountryCode</th>\n",
              "      <th>merchantName</th>\n",
              "      <th>posConditionCode</th>\n",
              "      <th>posEntryMode</th>\n",
              "      <th>transactionAmount</th>\n",
              "      <th>transactionType</th>\n",
              "      <th>accountOpenDate_year</th>\n",
              "      <th>accountOpenDate_month</th>\n",
              "      <th>accountOpenDate_day</th>\n",
              "      <th>transactionDateTime_year</th>\n",
              "      <th>transactionDateTime_month</th>\n",
              "      <th>transactionDateTime_day</th>\n",
              "      <th>transactionDateTime_hour</th>\n",
              "      <th>transactionDateTime_minute</th>\n",
              "      <th>transactionDateTime_second</th>\n",
              "      <th>currentExpDate_year</th>\n",
              "      <th>currentExpDate_month</th>\n",
              "      <th>currentExpDate_day</th>\n",
              "      <th>dateOfLastAddressChange_year</th>\n",
              "      <th>dateOfLastAddressChange_month</th>\n",
              "      <th>dateOfLastAddressChange_day</th>\n",
              "    </tr>\n",
              "  </thead>\n",
              "  <tbody>\n",
              "    <tr>\n",
              "      <th>0</th>\n",
              "      <td>173544488</td>\n",
              "      <td>3</td>\n",
              "      <td>3060.76</td>\n",
              "      <td>711</td>\n",
              "      <td>460</td>\n",
              "      <td>1</td>\n",
              "      <td>7500.0</td>\n",
              "      <td>4439.24</td>\n",
              "      <td>173544488</td>\n",
              "      <td>711</td>\n",
              "      <td>0</td>\n",
              "      <td>0</td>\n",
              "      <td>3</td>\n",
              "      <td>3</td>\n",
              "      <td>1535</td>\n",
              "      <td>0</td>\n",
              "      <td>1</td>\n",
              "      <td>455.25</td>\n",
              "      <td>1</td>\n",
              "      <td>2014</td>\n",
              "      <td>4</td>\n",
              "      <td>12</td>\n",
              "      <td>2016</td>\n",
              "      <td>1</td>\n",
              "      <td>30</td>\n",
              "      <td>22</td>\n",
              "      <td>45</td>\n",
              "      <td>7</td>\n",
              "      <td>2019</td>\n",
              "      <td>9</td>\n",
              "      <td>1</td>\n",
              "      <td>2014</td>\n",
              "      <td>4</td>\n",
              "      <td>12</td>\n",
              "    </tr>\n",
              "    <tr>\n",
              "      <th>1</th>\n",
              "      <td>109517864</td>\n",
              "      <td>3</td>\n",
              "      <td>250.00</td>\n",
              "      <td>912</td>\n",
              "      <td>4842</td>\n",
              "      <td>1</td>\n",
              "      <td>250.0</td>\n",
              "      <td>0.00</td>\n",
              "      <td>109517864</td>\n",
              "      <td>912</td>\n",
              "      <td>0</td>\n",
              "      <td>0</td>\n",
              "      <td>7</td>\n",
              "      <td>3</td>\n",
              "      <td>1117</td>\n",
              "      <td>0</td>\n",
              "      <td>3</td>\n",
              "      <td>53.56</td>\n",
              "      <td>1</td>\n",
              "      <td>2014</td>\n",
              "      <td>11</td>\n",
              "      <td>7</td>\n",
              "      <td>2016</td>\n",
              "      <td>10</td>\n",
              "      <td>28</td>\n",
              "      <td>2</td>\n",
              "      <td>14</td>\n",
              "      <td>48</td>\n",
              "      <td>2024</td>\n",
              "      <td>3</td>\n",
              "      <td>1</td>\n",
              "      <td>2014</td>\n",
              "      <td>11</td>\n",
              "      <td>7</td>\n",
              "    </tr>\n",
              "    <tr>\n",
              "      <th>2</th>\n",
              "      <td>937106980</td>\n",
              "      <td>3</td>\n",
              "      <td>8272.83</td>\n",
              "      <td>312</td>\n",
              "      <td>92</td>\n",
              "      <td>1</td>\n",
              "      <td>15000.0</td>\n",
              "      <td>6727.17</td>\n",
              "      <td>937106980</td>\n",
              "      <td>312</td>\n",
              "      <td>0</td>\n",
              "      <td>0</td>\n",
              "      <td>3</td>\n",
              "      <td>3</td>\n",
              "      <td>26</td>\n",
              "      <td>0</td>\n",
              "      <td>2</td>\n",
              "      <td>319.40</td>\n",
              "      <td>1</td>\n",
              "      <td>2014</td>\n",
              "      <td>3</td>\n",
              "      <td>23</td>\n",
              "      <td>2016</td>\n",
              "      <td>10</td>\n",
              "      <td>9</td>\n",
              "      <td>12</td>\n",
              "      <td>0</td>\n",
              "      <td>17</td>\n",
              "      <td>2022</td>\n",
              "      <td>4</td>\n",
              "      <td>1</td>\n",
              "      <td>2016</td>\n",
              "      <td>9</td>\n",
              "      <td>16</td>\n",
              "    </tr>\n",
              "    <tr>\n",
              "      <th>3</th>\n",
              "      <td>942524230</td>\n",
              "      <td>3</td>\n",
              "      <td>5289.40</td>\n",
              "      <td>379</td>\n",
              "      <td>1683</td>\n",
              "      <td>1</td>\n",
              "      <td>7500.0</td>\n",
              "      <td>2210.60</td>\n",
              "      <td>942524230</td>\n",
              "      <td>379</td>\n",
              "      <td>0</td>\n",
              "      <td>0</td>\n",
              "      <td>5</td>\n",
              "      <td>3</td>\n",
              "      <td>180</td>\n",
              "      <td>1</td>\n",
              "      <td>1</td>\n",
              "      <td>12.76</td>\n",
              "      <td>1</td>\n",
              "      <td>2008</td>\n",
              "      <td>11</td>\n",
              "      <td>16</td>\n",
              "      <td>2016</td>\n",
              "      <td>1</td>\n",
              "      <td>8</td>\n",
              "      <td>4</td>\n",
              "      <td>17</td>\n",
              "      <td>52</td>\n",
              "      <td>2028</td>\n",
              "      <td>11</td>\n",
              "      <td>1</td>\n",
              "      <td>2008</td>\n",
              "      <td>11</td>\n",
              "      <td>16</td>\n",
              "    </tr>\n",
              "    <tr>\n",
              "      <th>4</th>\n",
              "      <td>899404344</td>\n",
              "      <td>3</td>\n",
              "      <td>3942.77</td>\n",
              "      <td>279</td>\n",
              "      <td>8069</td>\n",
              "      <td>1</td>\n",
              "      <td>5000.0</td>\n",
              "      <td>1057.23</td>\n",
              "      <td>899404344</td>\n",
              "      <td>279</td>\n",
              "      <td>0</td>\n",
              "      <td>0</td>\n",
              "      <td>1</td>\n",
              "      <td>3</td>\n",
              "      <td>1104</td>\n",
              "      <td>0</td>\n",
              "      <td>1</td>\n",
              "      <td>34.51</td>\n",
              "      <td>1</td>\n",
              "      <td>2012</td>\n",
              "      <td>3</td>\n",
              "      <td>22</td>\n",
              "      <td>2016</td>\n",
              "      <td>11</td>\n",
              "      <td>9</td>\n",
              "      <td>11</td>\n",
              "      <td>35</td>\n",
              "      <td>49</td>\n",
              "      <td>2019</td>\n",
              "      <td>5</td>\n",
              "      <td>1</td>\n",
              "      <td>2012</td>\n",
              "      <td>3</td>\n",
              "      <td>22</td>\n",
              "    </tr>\n",
              "  </tbody>\n",
              "</table>\n",
              "</div>"
            ],
            "text/plain": [
              "   accountNumber  ...  dateOfLastAddressChange_day\n",
              "0      173544488  ...                           12\n",
              "1      109517864  ...                            7\n",
              "2      937106980  ...                           16\n",
              "3      942524230  ...                           16\n",
              "4      899404344  ...                           22\n",
              "\n",
              "[5 rows x 34 columns]"
            ]
          },
          "metadata": {
            "tags": []
          },
          "execution_count": 4
        }
      ]
    },
    {
      "cell_type": "code",
      "metadata": {
        "id": "mevv0u2XS7go",
        "colab_type": "code",
        "colab": {}
      },
      "source": [
        "X, y = df.drop(['isFraud'],axis=1), df['isFraud']\n",
        "# Split the data into 30% test and 70% training\n",
        "X_train, X_test, y_train, y_test = train_test_split(X, y, test_size=0.3, random_state=42)"
      ],
      "execution_count": 0,
      "outputs": []
    },
    {
      "cell_type": "code",
      "metadata": {
        "id": "U2vsrjYRS7gr",
        "colab_type": "code",
        "colab": {
          "base_uri": "https://localhost:8080/",
          "height": 595
        },
        "outputId": "5c3aca22-151d-4c1b-ac31-beb123c5ed77"
      },
      "source": [
        "# Build a forest and compute the feature importances\n",
        "forest = RandomForestClassifier(n_estimators=500, max_depth=5, random_state=42, n_jobs=-1)\n",
        "\n",
        "forest.fit(X_train, y_train)\n",
        "importances = forest.feature_importances_\n",
        "std = np.std([tree.feature_importances_ for tree in forest.estimators_],\n",
        "             axis=0)\n",
        "indices = np.argsort(importances)[::-1]\n",
        "\n",
        "# Print the feature ranking\n",
        "print(\"Feature ranking:\")\n",
        "\n",
        "for f in range(X.shape[1]):\n",
        "    print(\"%d. feature %s (%f)\" % (f + 1, X.columns[indices[f]], importances[indices[f]]))"
      ],
      "execution_count": 6,
      "outputs": [
        {
          "output_type": "stream",
          "text": [
            "Feature ranking:\n",
            "1. feature transactionAmount (0.461284)\n",
            "2. feature posEntryMode (0.238895)\n",
            "3. feature merchantName (0.052225)\n",
            "4. feature merchantCategoryCode (0.042508)\n",
            "5. feature accountNumber (0.024675)\n",
            "6. feature customerId (0.022490)\n",
            "7. feature transactionType (0.021297)\n",
            "8. feature enteredCVV (0.018811)\n",
            "9. feature cardCVV (0.017843)\n",
            "10. feature cardPresent (0.016107)\n",
            "11. feature currentBalance (0.012183)\n",
            "12. feature accountOpenDate_day (0.011294)\n",
            "13. feature cardLast4Digits (0.010590)\n",
            "14. feature dateOfLastAddressChange_year (0.007816)\n",
            "15. feature dateOfLastAddressChange_day (0.007122)\n",
            "16. feature creditLimit (0.006090)\n",
            "17. feature accountOpenDate_month (0.005907)\n",
            "18. feature posConditionCode (0.005774)\n",
            "19. feature accountOpenDate_year (0.003972)\n",
            "20. feature availableMoney (0.003922)\n",
            "21. feature dateOfLastAddressChange_month (0.003686)\n",
            "22. feature transactionDateTime_month (0.002401)\n",
            "23. feature transactionDateTime_second (0.000579)\n",
            "24. feature transactionDateTime_day (0.000510)\n",
            "25. feature transactionDateTime_hour (0.000492)\n",
            "26. feature transactionDateTime_minute (0.000485)\n",
            "27. feature currentExpDate_year (0.000395)\n",
            "28. feature currentExpDate_month (0.000335)\n",
            "29. feature merchantCountryCode (0.000158)\n",
            "30. feature acqCountry (0.000151)\n",
            "31. feature expirationDateKeyInMatch (0.000000)\n",
            "32. feature transactionDateTime_year (0.000000)\n",
            "33. feature currentExpDate_day (0.000000)\n"
          ],
          "name": "stdout"
        }
      ]
    },
    {
      "cell_type": "code",
      "metadata": {
        "id": "WXD5VtIFS7gu",
        "colab_type": "code",
        "colab": {
          "base_uri": "https://localhost:8080/",
          "height": 564
        },
        "outputId": "9a4184a3-7ecb-4da9-96c1-dfbf72230562"
      },
      "source": [
        "# Plot the feature importances of the forest\n",
        "columns_sorted_by_importance = [X.columns[f] for f in indices]\n",
        "plt.figure(figsize=(14,6))\n",
        "plt.title(\"Feature importances\")\n",
        "plt.bar(range(X.shape[1]), importances[indices],\n",
        "       color=\"r\", yerr=std[indices], align=\"center\")\n",
        "plt.xticks(range(X.shape[1]), columns_sorted_by_importance, rotation=90)\n",
        "plt.xlabel('Features')\n",
        "plt.ylabel('Importance')\n",
        "plt.xlim([-1, X.shape[1]])\n",
        "plt.show()"
      ],
      "execution_count": 7,
      "outputs": [
        {
          "output_type": "display_data",
          "data": {
            "image/png": "[encoded data removed]",
            "text/plain": [
              "<Figure size 1008x432 with 1 Axes>"
            ]
          },
          "metadata": {
            "tags": [],
            "needs_background": "light"
          }
        }
      ]
    },
    {
      "cell_type": "markdown",
      "metadata": {
        "id": "0XAkhq6CS7gx",
        "colab_type": "text"
      },
      "source": [
        "#### The Accuracy Of Our Full Feature Classifier"
      ]
    },
    {
      "cell_type": "code",
      "metadata": {
        "id": "2Ymgp2veS7gy",
        "colab_type": "code",
        "colab": {
          "base_uri": "https://localhost:8080/",
          "height": 34
        },
        "outputId": "7b67a0b3-e968-4e9c-9560-e950a7fd3f2f"
      },
      "source": [
        "# Apply The Full Featured Classifier To The Test Data\n",
        "y_pred = forest.predict(X_test)\n",
        "\n",
        "# View The Accuracy Of Our Full Feature (4 Features) Model\n",
        "score = accuracy_score(y_test, y_pred)\n",
        "print('Accuracy for full dataset: %.2f'%(score))"
      ],
      "execution_count": 8,
      "outputs": [
        {
          "output_type": "stream",
          "text": [
            "Accuracy for full dataset: 0.69\n"
          ],
          "name": "stdout"
        }
      ]
    },
    {
      "cell_type": "markdown",
      "metadata": {
        "id": "8ItzlP4zsKY5",
        "colab_type": "text"
      },
      "source": [
        "**Lets feed the model with 6 different sets of important features [5, 10, 15, 15, 20, 25, 30] and record accuracy, precision and reacal.**"
      ]
    },
    {
      "cell_type": "code",
      "metadata": {
        "id": "tCuHJALuS7g2",
        "colab_type": "code",
        "colab": {}
      },
      "source": [
        "feature_count = [5, 10, 15, 20, 25, 30]\n",
        "accuracy_scores = []\n",
        "precision_scores = []\n",
        "recall_scores = []\n",
        "\n",
        "columns_sorted_by_importance = [X.columns[f] for f in indices]\n",
        "for c in feature_count:\n",
        "    X_train_important =   X_train[columns_sorted_by_importance[:c]]\n",
        "    X_test_important =   X_test[columns_sorted_by_importance[:c]]\n",
        "    forest_important = RandomForestClassifier(n_estimators=500, max_depth=5, random_state=42, n_jobs=-1)\n",
        "    forest_important.fit(X_train_important, y_train)\n",
        "    y_pred = forest_important.predict(X_test_important)\n",
        "    accuracy_sc = round(accuracy_score(y_test, y_pred), 2)\n",
        "    precision_sc = round(precision_score(y_test, y_pred), 2)\n",
        "    recall_sc = round(recall_score(y_test, y_pred), 2)\n",
        "    accuracy_scores.append(accuracy_sc)\n",
        "    precision_scores.append(precision_sc)\n",
        "    recall_scores.append(recall_sc)\n"
      ],
      "execution_count": 0,
      "outputs": []
    },
    {
      "cell_type": "markdown",
      "metadata": {
        "id": "2PGgaskqsy3P",
        "colab_type": "text"
      },
      "source": [
        "Let plot accuracy, precision and recall for 6 sets of feature."
      ]
    },
    {
      "cell_type": "code",
      "metadata": {
        "id": "2CLsW4tgEeAv",
        "colab_type": "code",
        "colab": {
          "base_uri": "https://localhost:8080/",
          "height": 288
        },
        "outputId": "6fa51624-b8df-4eb2-cc2d-5e03a66bbcc8"
      },
      "source": [
        "import matplotlib.pyplot as plt\n",
        "%matplotlib inline\n",
        "\n",
        "plt.plot(feature_count, accuracy_scores)\n",
        "plt.plot(feature_count, precision_scores)\n",
        "plt.plot(feature_count, recall_scores)\n",
        "plt.margins(0.3)\n",
        "plt.subplots_adjust(bottom=0.15)\n",
        "\n",
        "plt.title('Accuracy, Precision, Recall Vs Feature count')\n",
        "plt.ylabel('Accuracy')\n",
        "plt.xlabel('Number of features')\n",
        "plt.legend(['accuracy', 'precision', 'recall'], loc='upper left')\n",
        "plt.show()"
      ],
      "execution_count": 14,
      "outputs": [
        {
          "output_type": "display_data",
          "data": {
            "image/png": "[encoded data removed]",
            "text/plain": [
              "<Figure size 432x288 with 1 Axes>"
            ]
          },
          "metadata": {
            "tags": [],
            "needs_background": "light"
          }
        }
      ]
    },
    {
      "cell_type": "markdown",
      "metadata": {
        "id": "uLnAG7XLrcdg",
        "colab_type": "text"
      },
      "source": [
        "So we see that  accuracy, precision and recall for each 6 sets are almost same. but the set with 20 most important features has highest accuracy. So we will take 20 most important features in feed our model.\n"
      ]
    },
    {
      "cell_type": "code",
      "metadata": {
        "id": "5D4x46SXuD5y",
        "colab_type": "code",
        "colab": {
          "base_uri": "https://localhost:8080/",
          "height": 68
        },
        "outputId": "b4093bc4-2190-47ed-880c-29232e10a174"
      },
      "source": [
        "print('accuracy_scores:'+str(accuracy_scores))\n",
        "print('precision_scores:'+str(precision_scores))\n",
        "print('recall_scores:'+str(recall_scores))"
      ],
      "execution_count": 18,
      "outputs": [
        {
          "output_type": "stream",
          "text": [
            "accuracy_scores:[0.69, 0.69, 0.69, 0.7, 0.69, 0.69]\n",
            "precision_scores:[0.69, 0.69, 0.68, 0.69, 0.68, 0.68]\n",
            "recall_scores:[0.68, 0.71, 0.73, 0.72, 0.72, 0.72]\n"
          ],
          "name": "stdout"
        }
      ]
    },
    {
      "cell_type": "markdown",
      "metadata": {
        "id": "oreTReB6S7g1",
        "colab_type": "text"
      },
      "source": [
        "### Important features \n",
        "\n",
        "So The followings are the high importance 20 features we will work on our rest of the project\n",
        "\n",
        "- transactionAmount (0.461284)\n",
        "- posEntryMode (0.238895)\n",
        "- merchantName (0.052225)\n",
        "- merchantCategoryCode (0.042508)\n",
        "- accountNumber (0.024675)\n",
        "- customerId (0.022490)\n",
        "- transactionType (0.021297)\n",
        "- enteredCVV (0.018811)\n",
        "- cardCVV (0.017843)\n",
        "- cardPresent (0.016107)\n",
        "- currentBalance (0.012183)\n",
        "- accountOpenDate_day (0.011294)\n",
        "- cardLast4Digits (0.010590)\n",
        "- dateOfLastAddressChange_year (0.007816)\n",
        "- dateOfLastAddressChange_day (0.007122)\n",
        "- creditLimit (0.006090)\n",
        "- accountOpenDate_month (0.005907)\n",
        "- posConditionCode (0.005774)\n",
        "- accountOpenDate_year (0.003972)\n",
        "- availableMoney (0.003922)"
      ]
    },
    {
      "cell_type": "code",
      "metadata": {
        "id": "WyF_lNwDS7g9",
        "colab_type": "code",
        "colab": {}
      },
      "source": [
        "# let write this importance to csv. so that we can use later.\n",
        "\n",
        "import csv\n",
        "columns_importance = [(X.columns[f], importances[f]) for f in indices]\n",
        "with open('/content/drive/My Drive/ml-project-datasets/data/feature_importance.csv', 'w', newline='') as file:\n",
        "    writer = csv.writer(file)\n",
        "    for row in columns_importance:\n",
        "        writer.writerow(row)"
      ],
      "execution_count": 0,
      "outputs": []
    },
    {
      "cell_type": "code",
      "metadata": {
        "id": "pCS-sibwTOiw",
        "colab_type": "code",
        "colab": {
          "base_uri": "https://localhost:8080/",
          "height": 357
        },
        "outputId": "df2332e9-6cde-48e0-a0ff-663d343c23cd"
      },
      "source": [
        "columns_sorted_by_importance[:20]"
      ],
      "execution_count": 21,
      "outputs": [
        {
          "output_type": "execute_result",
          "data": {
            "text/plain": [
              "['transactionAmount',\n",
              " 'posEntryMode',\n",
              " 'merchantName',\n",
              " 'merchantCategoryCode',\n",
              " 'accountNumber',\n",
              " 'customerId',\n",
              " 'transactionType',\n",
              " 'enteredCVV',\n",
              " 'cardCVV',\n",
              " 'cardPresent',\n",
              " 'currentBalance',\n",
              " 'accountOpenDate_day',\n",
              " 'cardLast4Digits',\n",
              " 'dateOfLastAddressChange_year',\n",
              " 'dateOfLastAddressChange_day',\n",
              " 'creditLimit',\n",
              " 'accountOpenDate_month',\n",
              " 'posConditionCode',\n",
              " 'accountOpenDate_year',\n",
              " 'availableMoney']"
            ]
          },
          "metadata": {
            "tags": []
          },
          "execution_count": 21
        }
      ]
    },
    {
      "cell_type": "markdown",
      "metadata": {
        "id": "vLoz8qX0S7hA",
        "colab_type": "text"
      },
      "source": [
        "Refernce code from \n",
        "\n",
        "- https://scikit-learn.org/stable/auto_examples/ensemble/plot_forest_importances.html\n",
        "- https://chrisalbon.com/machine_learning/trees_and_forests/feature_selection_using_random_forest/"
      ]
    }
  ]
}