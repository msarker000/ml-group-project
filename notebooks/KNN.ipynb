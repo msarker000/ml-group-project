{
 "cells": [
  {
   "cell_type": "markdown",
   "metadata": {},
   "source": [
    "This notebook we will work On KNN\n"
   ]
  },
  {
   "cell_type": "code",
   "execution_count": 2,
   "metadata": {},
   "outputs": [],
   "source": [
    "import numpy as np\n",
    "import pandas as pd\n",
    "import matplotlib.pyplot as plt\n",
    "from sklearn.preprocessing import StandardScaler\n",
    "from sklearn.model_selection  import train_test_split\n",
    "from sklearn import neighbors\n",
    "from sklearn.metrics import accuracy_score, precision_score, recall_score\n",
    "from sklearn.model_selection import cross_val_score\n",
    "import seaborn as sns\n",
    "sns.set(style=\"white\")\n",
    "sns.set(style=\"whitegrid\", color_codes=True)\n",
    "from sklearn.model_selection import GridSearchCV\n",
    "from sklearn.neighbors import KNeighborsClassifier\n",
    "\n",
    "%matplotlib inline\n",
    "SEED = 42"
   ]
  },
  {
   "cell_type": "code",
   "execution_count": 3,
   "metadata": {},
   "outputs": [
    {
     "data": {
      "text/plain": [
       "(872136, 34)"
      ]
     },
     "execution_count": 3,
     "metadata": {},
     "output_type": "execute_result"
    }
   ],
   "source": [
    "# Read processe file\n",
    "df = pd.read_csv('../data/processed_balanced_transaction.csv')\n",
    "df.shape"
   ]
  },
  {
   "cell_type": "markdown",
   "metadata": {},
   "source": [
    "#### Lets separate Level and features, Scaled features"
   ]
  },
  {
   "cell_type": "code",
   "execution_count": 4,
   "metadata": {},
   "outputs": [],
   "source": [
    "X, y = df.drop(['isFraud'],axis=1), df['isFraud']"
   ]
  },
  {
   "cell_type": "markdown",
   "metadata": {},
   "source": [
    "Split data into train test\n",
    "\n",
    "We are spliting data into train and test with ratio 30%. Means 30% test and 70% train data"
   ]
  },
  {
   "cell_type": "code",
   "execution_count": 5,
   "metadata": {},
   "outputs": [],
   "source": [
    "X_train, X_test, y_train, y_test = train_test_split(X, y, test_size=0.30, random_state=SEED)"
   ]
  },
  {
   "cell_type": "markdown",
   "metadata": {},
   "source": [
    "#### Create a KNN classifier and fit all features"
   ]
  },
  {
   "cell_type": "code",
   "execution_count": 5,
   "metadata": {},
   "outputs": [],
   "source": [
    "knn = neighbors.KNeighborsClassifier(n_neighbors=5)\n",
    "knn.fit(X_train, y_train)\n",
    "y_pred = knn.predict(X_test)"
   ]
  },
  {
   "cell_type": "code",
   "execution_count": 6,
   "metadata": {},
   "outputs": [
    {
     "name": "stdout",
     "output_type": "stream",
     "text": [
      "              precision    recall  f1-score   support\n",
      "\n",
      "   Not Fraud      1.000     0.928     0.963    130734\n",
      "       Fraud      0.933     1.000     0.965    130907\n",
      "\n",
      "    accuracy                          0.964    261641\n",
      "   macro avg      0.966     0.964     0.964    261641\n",
      "weighted avg      0.966     0.964     0.964    261641\n",
      "\n"
     ]
    }
   ],
   "source": [
    "from sklearn import metrics\n",
    "target_names = ['Not Fraud', 'Fraud']\n",
    "print(metrics.classification_report(y_test, y_pred, digits=3, target_names=target_names))"
   ]
  },
  {
   "cell_type": "markdown",
   "metadata": {},
   "source": [
    "### Converting to standard scale and fit again"
   ]
  },
  {
   "cell_type": "code",
   "execution_count": 6,
   "metadata": {},
   "outputs": [],
   "source": [
    "from sklearn.preprocessing import StandardScaler\n",
    "X, y = df.drop(['isFraud'],axis=1), df['isFraud']\n",
    "# scale the features by standard scaler\n",
    "standard_scaler = StandardScaler()\n",
    "X = standard_scaler.fit_transform(X)"
   ]
  },
  {
   "cell_type": "code",
   "execution_count": 8,
   "metadata": {},
   "outputs": [
    {
     "name": "stdout",
     "output_type": "stream",
     "text": [
      "<class 'pandas.core.frame.DataFrame'>\n",
      "RangeIndex: 872136 entries, 0 to 872135\n",
      "Data columns (total 34 columns):\n",
      " #   Column                         Non-Null Count   Dtype  \n",
      "---  ------                         --------------   -----  \n",
      " 0   accountNumber                  872136 non-null  int64  \n",
      " 1   acqCountry                     872136 non-null  int64  \n",
      " 2   availableMoney                 872136 non-null  float64\n",
      " 3   cardCVV                        872136 non-null  int64  \n",
      " 4   cardLast4Digits                872136 non-null  int64  \n",
      " 5   cardPresent                    872136 non-null  int64  \n",
      " 6   creditLimit                    872136 non-null  float64\n",
      " 7   currentBalance                 872136 non-null  float64\n",
      " 8   customerId                     872136 non-null  int64  \n",
      " 9   enteredCVV                     872136 non-null  int64  \n",
      " 10  expirationDateKeyInMatch       872136 non-null  int64  \n",
      " 11  isFraud                        872136 non-null  int64  \n",
      " 12  merchantCategoryCode           872136 non-null  int64  \n",
      " 13  merchantCountryCode            872136 non-null  int64  \n",
      " 14  merchantName                   872136 non-null  int64  \n",
      " 15  posConditionCode               872136 non-null  int64  \n",
      " 16  posEntryMode                   872136 non-null  int64  \n",
      " 17  transactionAmount              872136 non-null  float64\n",
      " 18  transactionType                872136 non-null  int64  \n",
      " 19  accountOpenDate_year           872136 non-null  int64  \n",
      " 20  accountOpenDate_month          872136 non-null  int64  \n",
      " 21  accountOpenDate_day            872136 non-null  int64  \n",
      " 22  transactionDateTime_year       872136 non-null  int64  \n",
      " 23  transactionDateTime_month      872136 non-null  int64  \n",
      " 24  transactionDateTime_day        872136 non-null  int64  \n",
      " 25  transactionDateTime_hour       872136 non-null  int64  \n",
      " 26  transactionDateTime_minute     872136 non-null  int64  \n",
      " 27  transactionDateTime_second     872136 non-null  int64  \n",
      " 28  currentExpDate_year            872136 non-null  int64  \n",
      " 29  currentExpDate_month           872136 non-null  int64  \n",
      " 30  currentExpDate_day             872136 non-null  int64  \n",
      " 31  dateOfLastAddressChange_year   872136 non-null  int64  \n",
      " 32  dateOfLastAddressChange_month  872136 non-null  int64  \n",
      " 33  dateOfLastAddressChange_day    872136 non-null  int64  \n",
      "dtypes: float64(4), int64(30)\n",
      "memory usage: 226.2 MB\n"
     ]
    }
   ],
   "source": [
    "df.info()"
   ]
  },
  {
   "cell_type": "code",
   "execution_count": 9,
   "metadata": {},
   "outputs": [],
   "source": [
    "knn = neighbors.KNeighborsClassifier(n_neighbors=5)\n",
    "knn.fit(X_train, y_train)\n",
    "y_pred = knn.predict(X_test)"
   ]
  },
  {
   "cell_type": "code",
   "execution_count": 10,
   "metadata": {},
   "outputs": [
    {
     "name": "stdout",
     "output_type": "stream",
     "text": [
      "              precision    recall  f1-score   support\n",
      "\n",
      "   Not Fraud      1.000     0.928     0.963    130734\n",
      "       Fraud      0.933     1.000     0.965    130907\n",
      "\n",
      "    accuracy                          0.964    261641\n",
      "   macro avg      0.966     0.964     0.964    261641\n",
      "weighted avg      0.966     0.964     0.964    261641\n",
      "\n"
     ]
    }
   ],
   "source": [
    "print(metrics.classification_report(y_test, y_pred, digits=3, target_names=target_names))"
   ]
  },
  {
   "cell_type": "markdown",
   "metadata": {},
   "source": [
    "#### Cross validation"
   ]
  },
  {
   "cell_type": "markdown",
   "metadata": {},
   "source": [
    "we are going to apply k-fold cross-validation.\n",
    "\n",
    "it will split the original data set into k subsets and use one of the subsets as the testing set and the remaining as the training sets. This process iterated k times until every subset have been used as the testing set. Since 10-fold cross-validation is the most popular one, we are going to use that on"
   ]
  },
  {
   "cell_type": "code",
   "execution_count": 11,
   "metadata": {},
   "outputs": [
    {
     "name": "stdout",
     "output_type": "stream",
     "text": [
      "Average score: 0.96\n"
     ]
    },
    {
     "data": {
      "text/plain": [
       "Text(0.5, 1.0, 'Average score: 0.9600307924936011')"
      ]
     },
     "execution_count": 11,
     "metadata": {},
     "output_type": "execute_result"
    },
    {
     "data": {
      "image/png": "[encoded data removed]",
      "text/plain": [
       "<Figure size 432x288 with 1 Axes>"
      ]
     },
     "metadata": {
      "needs_background": "light"
     },
     "output_type": "display_data"
    }
   ],
   "source": [
    "knn = neighbors.KNeighborsClassifier(n_neighbors=5)\n",
    "cv_scores = cross_val_score(knn, X_train, y_train, cv=10)\n",
    "print('Average score: {}'.format(round(np.mean(cv_scores),3)))\n",
    "sns.distplot(cv_scores)\n",
    "plt.title('Average score: {}'.format(np.mean(cv_scores)))"
   ]
  },
  {
   "cell_type": "markdown",
   "metadata": {},
   "source": [
    "#### Parameter Tuning\n",
    "\n",
    "In classification technique, there are some parameters that can be tuned to optimize the classification. \n",
    "In DecessionTreeClassifier we can tune \n",
    "\n",
    "- n_neighbors\n",
    "- leaf_size\n",
    "- algorithm\n",
    "- n_jobs\n",
    "\n",
    "Grid Search explores a range of parameters and finds the best combination of parameters. Then repeat the process several times until the best parameters are discovered. \n",
    "lets use grid search to get best params\n",
    "\n"
   ]
  },
  {
   "cell_type": "code",
   "execution_count": 9,
   "metadata": {},
   "outputs": [
    {
     "name": "stdout",
     "output_type": "stream",
     "text": [
      "Best score: 0.9600307924936011\n",
      "Best parameters: {'leaf_size': 2, 'n_neighbors': 5}\n"
     ]
    }
   ],
   "source": [
    "#Hyper Parameters Set\n",
    "params = {'n_neighbors':[5,6],\n",
    "          'leaf_size':[2,3],\n",
    "          }\n",
    "\n",
    "#Use GridSearch\n",
    "grid_search = GridSearchCV(KNeighborsClassifier(), params, cv=10, n_jobs=-1)\n",
    "#Fit the model\n",
    "grid_search.fit(X_train, y_train)\n",
    "print('Best score: {}'.format(grid_search.best_score_))\n",
    "print('Best parameters: {}'.format(grid_search.best_params_))\n",
    "\n",
    "best_KNN = grid_search.best_estimator_"
   ]
  },
  {
   "cell_type": "code",
   "execution_count": 12,
   "metadata": {},
   "outputs": [],
   "source": [
    "best_KNN.fit(X_train, y_train)\n",
    "y_pred_knn = best_KNN.predict(X_test)"
   ]
  },
  {
   "cell_type": "code",
   "execution_count": 16,
   "metadata": {},
   "outputs": [
    {
     "name": "stdout",
     "output_type": "stream",
     "text": [
      "              precision    recall  f1-score   support\n",
      "\n",
      "   Not Fraud      1.000     0.928     0.963    130734\n",
      "       Fraud      0.933     1.000     0.965    130907\n",
      "\n",
      "    accuracy                          0.964    261641\n",
      "   macro avg      0.966     0.964     0.964    261641\n",
      "weighted avg      0.966     0.964     0.964    261641\n",
      "\n"
     ]
    }
   ],
   "source": [
    "from sklearn import metrics\n",
    "target_names = ['Not Fraud', 'Fraud']\n",
    "print(metrics.classification_report(y_test, y_pred_knn, digits=3, target_names=target_names))"
   ]
  },
  {
   "cell_type": "markdown",
   "metadata": {},
   "source": [
    "### confusion_matrix for KNN Model"
   ]
  },
  {
   "cell_type": "code",
   "execution_count": 17,
   "metadata": {},
   "outputs": [],
   "source": [
    "def plot_confusion_matrix(cm, classes,\n",
    "                          normalize=False,\n",
    "                          title='Confusion matrix',\n",
    "                          cmap=plt.cm.Blues):\n",
    "    \"\"\"\n",
    "    This function prints and plots the confusion matrix.\n",
    "    Normalization can be applied by setting `normalize=True`.\n",
    "    \"\"\"\n",
    "    import itertools\n",
    "    if normalize:\n",
    "        cm = cm.astype('float') / cm.sum(axis=1)[:, np.newaxis]\n",
    "        print(\"Normalized confusion matrix\")\n",
    "    else:\n",
    "        print('Confusion matrix, without normalization')\n",
    "\n",
    "    print(cm)\n",
    "\n",
    "    plt.imshow(cm, interpolation='nearest', cmap=cmap)\n",
    "    plt.title(title)\n",
    "    plt.colorbar()\n",
    "    tick_marks = np.arange(len(classes))\n",
    "    plt.xticks(tick_marks, classes, rotation=90)\n",
    "    plt.yticks(tick_marks, classes)\n",
    "\n",
    "    fmt = '.2f' if normalize else 'd'\n",
    "    thresh = cm.max() / 2.\n",
    "    for i, j in itertools.product(range(cm.shape[0]), range(cm.shape[1])):\n",
    "        plt.text(j, i, format(cm[i, j], fmt),\n",
    "                 horizontalalignment=\"center\",\n",
    "                 color=\"white\" if cm[i, j] > thresh else \"black\")\n",
    "\n",
    "    plt.ylabel('True label')\n",
    "    plt.xlabel('Predicted label')\n",
    "    plt.tight_layout()"
   ]
  },
  {
   "cell_type": "code",
   "execution_count": 18,
   "metadata": {},
   "outputs": [],
   "source": [
    "y_test00=y_test.replace({0:'Not Fraud',1:'Fraud'})"
   ]
  },
  {
   "cell_type": "code",
   "execution_count": 19,
   "metadata": {},
   "outputs": [],
   "source": [
    "y_pred_knn_cv00=pd.DataFrame(y_pred_knn).replace({0:'Not Fraud',1:'Fraud'})"
   ]
  },
  {
   "cell_type": "code",
   "execution_count": 20,
   "metadata": {},
   "outputs": [
    {
     "name": "stdout",
     "output_type": "stream",
     "text": [
      "Confusion matrix, without normalization\n",
      "[[121330   9404]\n",
      " [     0 130907]]\n"
     ]
    },
    {
     "data": {
      "image/png": "[encoded data removed]",
      "text/plain": [
       "<Figure size 432x288 with 2 Axes>"
      ]
     },
     "metadata": {
      "needs_background": "light"
     },
     "output_type": "display_data"
    }
   ],
   "source": [
    "cnf_matrix = metrics.confusion_matrix(y_test00, y_pred_knn_cv00,labels=target_names)\n",
    "np.set_printoptions(precision=2)\n",
    "\n",
    "\n",
    "plt.figure()\n",
    "plot_confusion_matrix(cnf_matrix, classes=target_names,\n",
    "                      title='Confusion matrix')"
   ]
  },
  {
   "cell_type": "markdown",
   "metadata": {},
   "source": [
    "### Save best model"
   ]
  },
  {
   "cell_type": "code",
   "execution_count": 23,
   "metadata": {},
   "outputs": [],
   "source": [
    "import pickle\n",
    "\n",
    "lookup ={\n",
    "    1 : 'Fraud', 0:'Not Fraud'\n",
    "}\n",
    "\n",
    "pickle.dump(best_KNN, open('../saved_models/dtc_model.pkl','wb'))\n",
    "model = pickle.load(open('../saved_models/dtc_model.pkl','rb'))\n"
   ]
  }
 ],
 "metadata": {
  "kernelspec": {
   "display_name": "p36workshop",
   "language": "python",
   "name": "p36workshop"
  },
  "language_info": {
   "codemirror_mode": {
    "name": "ipython",
    "version": 3
   },
   "file_extension": ".py",
   "mimetype": "text/x-python",
   "name": "python",
   "nbconvert_exporter": "python",
   "pygments_lexer": "ipython3",
   "version": "3.6.10"
  }
 },
 "nbformat": 4,
 "nbformat_minor": 2
}
