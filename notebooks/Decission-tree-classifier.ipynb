{
 "cells": [
  {
   "cell_type": "markdown",
   "metadata": {},
   "source": [
    "#### This notebook we will work in DecisionTreeClassifier\n"
   ]
  },
  {
   "cell_type": "code",
   "execution_count": 1,
   "metadata": {},
   "outputs": [],
   "source": [
    "import numpy as np\n",
    "import pandas as pd\n",
    "import matplotlib.pyplot as plt\n",
    "from sklearn.preprocessing import StandardScaler\n",
    "from sklearn.model_selection  import train_test_split\n",
    "from sklearn.tree import DecisionTreeClassifier\n",
    "from sklearn.metrics import accuracy_score, precision_score, recall_score\n",
    "from sklearn.model_selection import cross_val_score\n",
    "import seaborn as sns\n",
    "sns.set(style=\"white\")\n",
    "sns.set(style=\"whitegrid\", color_codes=True)\n",
    "from sklearn.model_selection import GridSearchCV\n",
    "\n",
    "%matplotlib inline\n",
    "SEED = 42"
   ]
  },
  {
   "cell_type": "code",
   "execution_count": 13,
   "metadata": {},
   "outputs": [
    {
     "data": {
      "text/html": [
       "<div>\n",
       "<style scoped>\n",
       "    .dataframe tbody tr th:only-of-type {\n",
       "        vertical-align: middle;\n",
       "    }\n",
       "\n",
       "    .dataframe tbody tr th {\n",
       "        vertical-align: top;\n",
       "    }\n",
       "\n",
       "    .dataframe thead th {\n",
       "        text-align: right;\n",
       "    }\n",
       "</style>\n",
       "<table border=\"1\" class=\"dataframe\">\n",
       "  <thead>\n",
       "    <tr style=\"text-align: right;\">\n",
       "      <th></th>\n",
       "      <th>accountNumber</th>\n",
       "      <th>acqCountry</th>\n",
       "      <th>availableMoney</th>\n",
       "      <th>cardCVV</th>\n",
       "      <th>cardLast4Digits</th>\n",
       "      <th>cardPresent</th>\n",
       "      <th>creditLimit</th>\n",
       "      <th>currentBalance</th>\n",
       "      <th>customerId</th>\n",
       "      <th>enteredCVV</th>\n",
       "      <th>...</th>\n",
       "      <th>transactionDateTime_day</th>\n",
       "      <th>transactionDateTime_hour</th>\n",
       "      <th>transactionDateTime_minute</th>\n",
       "      <th>transactionDateTime_second</th>\n",
       "      <th>currentExpDate_year</th>\n",
       "      <th>currentExpDate_month</th>\n",
       "      <th>currentExpDate_day</th>\n",
       "      <th>dateOfLastAddressChange_year</th>\n",
       "      <th>dateOfLastAddressChange_month</th>\n",
       "      <th>dateOfLastAddressChange_day</th>\n",
       "    </tr>\n",
       "  </thead>\n",
       "  <tbody>\n",
       "    <tr>\n",
       "      <th>0</th>\n",
       "      <td>173544488</td>\n",
       "      <td>3</td>\n",
       "      <td>3060.76</td>\n",
       "      <td>711</td>\n",
       "      <td>460</td>\n",
       "      <td>1</td>\n",
       "      <td>7500.0</td>\n",
       "      <td>4439.24</td>\n",
       "      <td>173544488</td>\n",
       "      <td>711</td>\n",
       "      <td>...</td>\n",
       "      <td>30</td>\n",
       "      <td>22</td>\n",
       "      <td>45</td>\n",
       "      <td>7</td>\n",
       "      <td>2019</td>\n",
       "      <td>9</td>\n",
       "      <td>1</td>\n",
       "      <td>2014</td>\n",
       "      <td>4</td>\n",
       "      <td>12</td>\n",
       "    </tr>\n",
       "    <tr>\n",
       "      <th>1</th>\n",
       "      <td>109517864</td>\n",
       "      <td>3</td>\n",
       "      <td>250.00</td>\n",
       "      <td>912</td>\n",
       "      <td>4842</td>\n",
       "      <td>1</td>\n",
       "      <td>250.0</td>\n",
       "      <td>0.00</td>\n",
       "      <td>109517864</td>\n",
       "      <td>912</td>\n",
       "      <td>...</td>\n",
       "      <td>28</td>\n",
       "      <td>2</td>\n",
       "      <td>14</td>\n",
       "      <td>48</td>\n",
       "      <td>2024</td>\n",
       "      <td>3</td>\n",
       "      <td>1</td>\n",
       "      <td>2014</td>\n",
       "      <td>11</td>\n",
       "      <td>7</td>\n",
       "    </tr>\n",
       "    <tr>\n",
       "      <th>2</th>\n",
       "      <td>937106980</td>\n",
       "      <td>3</td>\n",
       "      <td>8272.83</td>\n",
       "      <td>312</td>\n",
       "      <td>92</td>\n",
       "      <td>1</td>\n",
       "      <td>15000.0</td>\n",
       "      <td>6727.17</td>\n",
       "      <td>937106980</td>\n",
       "      <td>312</td>\n",
       "      <td>...</td>\n",
       "      <td>9</td>\n",
       "      <td>12</td>\n",
       "      <td>0</td>\n",
       "      <td>17</td>\n",
       "      <td>2022</td>\n",
       "      <td>4</td>\n",
       "      <td>1</td>\n",
       "      <td>2016</td>\n",
       "      <td>9</td>\n",
       "      <td>16</td>\n",
       "    </tr>\n",
       "    <tr>\n",
       "      <th>3</th>\n",
       "      <td>942524230</td>\n",
       "      <td>3</td>\n",
       "      <td>5289.40</td>\n",
       "      <td>379</td>\n",
       "      <td>1683</td>\n",
       "      <td>1</td>\n",
       "      <td>7500.0</td>\n",
       "      <td>2210.60</td>\n",
       "      <td>942524230</td>\n",
       "      <td>379</td>\n",
       "      <td>...</td>\n",
       "      <td>8</td>\n",
       "      <td>4</td>\n",
       "      <td>17</td>\n",
       "      <td>52</td>\n",
       "      <td>2028</td>\n",
       "      <td>11</td>\n",
       "      <td>1</td>\n",
       "      <td>2008</td>\n",
       "      <td>11</td>\n",
       "      <td>16</td>\n",
       "    </tr>\n",
       "    <tr>\n",
       "      <th>4</th>\n",
       "      <td>899404344</td>\n",
       "      <td>3</td>\n",
       "      <td>3942.77</td>\n",
       "      <td>279</td>\n",
       "      <td>8069</td>\n",
       "      <td>1</td>\n",
       "      <td>5000.0</td>\n",
       "      <td>1057.23</td>\n",
       "      <td>899404344</td>\n",
       "      <td>279</td>\n",
       "      <td>...</td>\n",
       "      <td>9</td>\n",
       "      <td>11</td>\n",
       "      <td>35</td>\n",
       "      <td>49</td>\n",
       "      <td>2019</td>\n",
       "      <td>5</td>\n",
       "      <td>1</td>\n",
       "      <td>2012</td>\n",
       "      <td>3</td>\n",
       "      <td>22</td>\n",
       "    </tr>\n",
       "  </tbody>\n",
       "</table>\n",
       "<p>5 rows × 34 columns</p>\n",
       "</div>"
      ],
      "text/plain": [
       "   accountNumber  acqCountry  availableMoney  cardCVV  cardLast4Digits  \\\n",
       "0      173544488           3         3060.76      711              460   \n",
       "1      109517864           3          250.00      912             4842   \n",
       "2      937106980           3         8272.83      312               92   \n",
       "3      942524230           3         5289.40      379             1683   \n",
       "4      899404344           3         3942.77      279             8069   \n",
       "\n",
       "   cardPresent  creditLimit  currentBalance  customerId  enteredCVV  \\\n",
       "0            1       7500.0         4439.24   173544488         711   \n",
       "1            1        250.0            0.00   109517864         912   \n",
       "2            1      15000.0         6727.17   937106980         312   \n",
       "3            1       7500.0         2210.60   942524230         379   \n",
       "4            1       5000.0         1057.23   899404344         279   \n",
       "\n",
       "              ...               transactionDateTime_day  \\\n",
       "0             ...                                    30   \n",
       "1             ...                                    28   \n",
       "2             ...                                     9   \n",
       "3             ...                                     8   \n",
       "4             ...                                     9   \n",
       "\n",
       "   transactionDateTime_hour  transactionDateTime_minute  \\\n",
       "0                        22                          45   \n",
       "1                         2                          14   \n",
       "2                        12                           0   \n",
       "3                         4                          17   \n",
       "4                        11                          35   \n",
       "\n",
       "   transactionDateTime_second  currentExpDate_year  currentExpDate_month  \\\n",
       "0                           7                 2019                     9   \n",
       "1                          48                 2024                     3   \n",
       "2                          17                 2022                     4   \n",
       "3                          52                 2028                    11   \n",
       "4                          49                 2019                     5   \n",
       "\n",
       "   currentExpDate_day  dateOfLastAddressChange_year  \\\n",
       "0                   1                          2014   \n",
       "1                   1                          2014   \n",
       "2                   1                          2016   \n",
       "3                   1                          2008   \n",
       "4                   1                          2012   \n",
       "\n",
       "   dateOfLastAddressChange_month  dateOfLastAddressChange_day  \n",
       "0                              4                           12  \n",
       "1                             11                            7  \n",
       "2                              9                           16  \n",
       "3                             11                           16  \n",
       "4                              3                           22  \n",
       "\n",
       "[5 rows x 34 columns]"
      ]
     },
     "execution_count": 13,
     "metadata": {},
     "output_type": "execute_result"
    }
   ],
   "source": [
    "# Read processe file\n",
    "df = pd.read_csv('../data/processed_balanced_transaction.csv')\n",
    "df.head()"
   ]
  },
  {
   "cell_type": "markdown",
   "metadata": {},
   "source": [
    "#### Lets separate Level and features, Scaled features\n"
   ]
  },
  {
   "cell_type": "code",
   "execution_count": 14,
   "metadata": {},
   "outputs": [],
   "source": [
    "X, y = df.drop(['isFraud'],axis=1), df['isFraud']"
   ]
  },
  {
   "cell_type": "markdown",
   "metadata": {},
   "source": [
    "#### Split data into train test \n",
    " We are spliting data into train and test with ratio 30%. Means 30% test and 70% train data"
   ]
  },
  {
   "cell_type": "code",
   "execution_count": 16,
   "metadata": {},
   "outputs": [],
   "source": [
    "X_train, X_test, y_train, y_test = train_test_split(X, y, test_size=0.30, random_state=SEED)"
   ]
  },
  {
   "cell_type": "markdown",
   "metadata": {},
   "source": [
    "#### Create a DessionTree classifier and fit all features"
   ]
  },
  {
   "cell_type": "code",
   "execution_count": 20,
   "metadata": {},
   "outputs": [],
   "source": [
    "dt_classifier = DecisionTreeClassifier(max_depth=5, random_state=SEED)\n",
    "dt_classifier.fit(X_train, y_train)\n",
    "y_pred = dt_classifier.predict(X_test)\n"
   ]
  },
  {
   "cell_type": "code",
   "execution_count": 21,
   "metadata": {},
   "outputs": [
    {
     "name": "stdout",
     "output_type": "stream",
     "text": [
      "              precision    recall  f1-score   support\n",
      "\n",
      "   Not Fraud      0.667     0.706     0.686    130734\n",
      "       Fraud      0.688     0.648     0.667    130907\n",
      "\n",
      "    accuracy                          0.677    261641\n",
      "   macro avg      0.678     0.677     0.677    261641\n",
      "weighted avg      0.678     0.677     0.677    261641\n",
      "\n"
     ]
    }
   ],
   "source": [
    "from sklearn import metrics\n",
    "target_names = ['Not Fraud', 'Fraud']\n",
    "print(metrics.classification_report(y_test, y_pred, digits=3, target_names=target_names))"
   ]
  },
  {
   "cell_type": "markdown",
   "metadata": {},
   "source": [
    "#### Converting to standard scale and fit again"
   ]
  },
  {
   "cell_type": "code",
   "execution_count": 22,
   "metadata": {},
   "outputs": [],
   "source": [
    "standard_scaler = StandardScaler()\n",
    "X = standard_scaler.fit_transform(X)\n",
    "X_train, X_test, y_train, y_test = train_test_split(X, y, test_size=0.30, random_state=SEED)"
   ]
  },
  {
   "cell_type": "code",
   "execution_count": 23,
   "metadata": {},
   "outputs": [],
   "source": [
    "dt_classifier = DecisionTreeClassifier(max_depth=5, random_state=SEED)\n",
    "dt_classifier.fit(X_train, y_train)\n",
    "y_pred = dt_classifier.predict(X_test)"
   ]
  },
  {
   "cell_type": "code",
   "execution_count": 24,
   "metadata": {},
   "outputs": [
    {
     "name": "stdout",
     "output_type": "stream",
     "text": [
      "              precision    recall  f1-score   support\n",
      "\n",
      "   Not Fraud      0.667     0.706     0.686    130734\n",
      "       Fraud      0.688     0.648     0.667    130907\n",
      "\n",
      "    accuracy                          0.677    261641\n",
      "   macro avg      0.678     0.677     0.677    261641\n",
      "weighted avg      0.678     0.677     0.677    261641\n",
      "\n"
     ]
    }
   ],
   "source": [
    "print(metrics.classification_report(y_test, y_pred, digits=3, target_names=target_names))"
   ]
  },
  {
   "cell_type": "markdown",
   "metadata": {},
   "source": [
    "#### Cross validation\n",
    "we are going to apply k-fold cross-validation.\n",
    "\n",
    "it will split the original data set into k subsets and use one of the subsets as the testing set and the remaining as the training sets. This process iterated k times until every subset have been used as the testing set. Since 10-fold cross-validation is the most popular one, we are going to use that one."
   ]
  },
  {
   "cell_type": "code",
   "execution_count": null,
   "metadata": {},
   "outputs": [],
   "source": [
    "dt_classifier = DecisionTreeClassifier(max_depth=5, random_state=SEED)\n",
    "cv_scores = cross_val_score(dt_classifier, X_train, y_train, cv=10)\n",
    "print('Average score: {}'.format(np.mean(cv_scores)))"
   ]
  },
  {
   "cell_type": "markdown",
   "metadata": {},
   "source": [
    "It looks there is no improvement using cross-validation. "
   ]
  },
  {
   "cell_type": "markdown",
   "metadata": {},
   "source": [
    "#### Fit model on Best 20 important features"
   ]
  },
  {
   "cell_type": "code",
   "execution_count": null,
   "metadata": {},
   "outputs": [],
   "source": [
    "## TODO"
   ]
  },
  {
   "cell_type": "markdown",
   "metadata": {},
   "source": [
    "#### Parameter Tuning\n",
    "\n",
    "In classification technique, there are some parameters that can be tuned to optimize the classification. \n",
    "In DecessionTreeClassifier we can tune \n",
    "\n",
    "- Decision tree is max depth (the depth of the tree)\n",
    "- max feature (the feature used to classify)\n",
    "- criterion\n",
    "- splitter\n",
    "\n",
    "Grid Search explores a range of parameters and finds the best combination of parameters. Then repeat the process several times until the best parameters are discovered. \n",
    "lets use grid search to get best params\n"
   ]
  },
  {
   "cell_type": "code",
   "execution_count": 105,
   "metadata": {},
   "outputs": [
    {
     "name": "stdout",
     "output_type": "stream",
     "text": [
      "Best score: 0.982994960365098\n",
      "Best parameters: {'criterion': 'entropy', 'max_depth': 5, 'max_features': 20, 'splitter': 'best'}\n"
     ]
    },
    {
     "data": {
      "text/plain": [
       "DecisionTreeClassifier(ccp_alpha=0.0, class_weight=None, criterion='entropy',\n",
       "                       max_depth=5, max_features=20, max_leaf_nodes=None,\n",
       "                       min_impurity_decrease=0.0, min_impurity_split=None,\n",
       "                       min_samples_leaf=1, min_samples_split=2,\n",
       "                       min_weight_fraction_leaf=0.0, presort='deprecated',\n",
       "                       random_state=None, splitter='best')"
      ]
     },
     "execution_count": 105,
     "metadata": {},
     "output_type": "execute_result"
    }
   ],
   "source": [
    "from sklearn.model_selection import StratifiedKFold\n",
    "\n",
    "dt_classifier = DecisionTreeClassifier()\n",
    "\n",
    "parameter_grid = {\n",
    "                  'criterion': ['gini', 'entropy'],\n",
    "                  'splitter': ['best', 'random'],\n",
    "                  'max_depth': [3, 4, 5, 6],\n",
    "                  'max_features': [15, 20, 25, 30]\n",
    "                 }\n",
    "\n",
    "cross_validation = StratifiedKFold(n_splits=10)\n",
    "\n",
    "grid_search = GridSearchCV(dt_classifier, param_grid=parameter_grid, cv=cross_validation)\n",
    "\n",
    "grid_search.fit(X_train, y_train)\n",
    "print('Best score: {}'.format(grid_search.best_score_))\n",
    "print('Best parameters: {}'.format(grid_search.best_params_))\n",
    "\n",
    "best_dt_classifier = grid_search.best_estimator_\n",
    "best_dt_classifier"
   ]
  },
  {
   "cell_type": "markdown",
   "metadata": {},
   "source": [
    "A little bit improvement in best score. lets fit best model\n"
   ]
  },
  {
   "cell_type": "code",
   "execution_count": 115,
   "metadata": {},
   "outputs": [
    {
     "name": "stdout",
     "output_type": "stream",
     "text": [
      "acc: 0.98253 precision: 1.0 recal: 0.0\n"
     ]
    }
   ],
   "source": [
    "best_dt_classifier.fit(X_train, y_train)\n",
    "y_pred = best_dt_classifier.predict(X_test)\n",
    "accuracy = round(accuracy_score(y_test, y_pred),5)\n",
    "precision = round(precision_score(y_test, y_pred, zero_division=1),5)\n",
    "recall = round(recall_score(y_test, y_pred),5)\n",
    "print('acc: {} precision: {} recal: {}'.format(accuracy, precision, recall))\n"
   ]
  },
  {
   "cell_type": "markdown",
   "metadata": {},
   "source": [
    "#### Save best model "
   ]
  },
  {
   "cell_type": "code",
   "execution_count": 118,
   "metadata": {},
   "outputs": [
    {
     "data": {
      "text/plain": [
       "'Not Fraud'"
      ]
     },
     "execution_count": 118,
     "metadata": {},
     "output_type": "execute_result"
    }
   ],
   "source": [
    "import pickle\n",
    "\n",
    "lookup ={\n",
    "    1 : 'Fraud', 0:'Not Fraud'\n",
    "}\n",
    "\n",
    "pickle.dump(best_dt_classifier, open('../saved_models/dtc_model.pkl','wb'))\n",
    "model = pickle.load(open('../saved_models/dtc_model.pkl','rb'))\n",
    "\n",
    "#test the model \n",
    "pred = model.predict([X_test[0]])\n",
    "lookup[pred[0]]"
   ]
  },
  {
   "cell_type": "markdown",
   "metadata": {},
   "source": [
    "#### lets write score in a file"
   ]
  },
  {
   "cell_type": "code",
   "execution_count": 120,
   "metadata": {},
   "outputs": [],
   "source": [
    "import csv\n",
    "\n",
    "with open('../data/dtc_scrore.csv', 'w', newline='') as csvfile:\n",
    "    fieldnames = ['accuracy_score', 'precision_score', 'recall_score']\n",
    "    writer = csv.DictWriter(csvfile, fieldnames=fieldnames)\n",
    "    writer.writeheader()\n",
    "    writer.writerow({'accuracy_score': accuracy, 'precision_score':  precision, 'recall_score':recall})\n"
   ]
  },
  {
   "cell_type": "markdown",
   "metadata": {},
   "source": [
    "#### Code Reference"
   ]
  },
  {
   "cell_type": "markdown",
   "metadata": {},
   "source": [
    "- https://scikit-learn.org/stable/modules/generated/sklearn.tree.DecisionTreeClassifier.html\n",
    "- https://medium.com/@haydar_ai/learning-data-science-day-22-cross-validation-and-parameter-tuning-b14bcbc6b012\n",
    "-  https://scikit-learn.org/stable/modules/generated/sklearn.model_selection.StratifiedKFold.html#sklearn.model_selection.StratifiedKFold\n",
    "- https://scikit-learn.org/stable/modules/generated/sklearn.metrics.precision_score.html"
   ]
  },
  {
   "cell_type": "code",
   "execution_count": null,
   "metadata": {},
   "outputs": [],
   "source": []
  }
 ],
 "metadata": {
  "kernelspec": {
   "display_name": "Python 3",
   "language": "python",
   "name": "python3"
  },
  "language_info": {
   "codemirror_mode": {
    "name": "ipython",
    "version": 3
   },
   "file_extension": ".py",
   "mimetype": "text/x-python",
   "name": "python",
   "nbconvert_exporter": "python",
   "pygments_lexer": "ipython3",
   "version": "3.6.5"
  }
 },
 "nbformat": 4,
 "nbformat_minor": 2
}
